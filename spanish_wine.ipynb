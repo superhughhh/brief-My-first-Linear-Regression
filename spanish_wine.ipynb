{
 "cells": [
  {
   "cell_type": "code",
   "execution_count": 1014,
   "metadata": {
    "slideshow": {
     "slide_type": "slide"
    }
   },
   "outputs": [],
   "source": [
    "import pandas as pd\n",
    "import numpy as np\n",
    "import matplotlib.pyplot as plt\n",
    "import seaborn as sns\n",
    "from data_explorer.visualisation import scatter_figure_byTarget, make_heatmap, view_unique_values, hist_distributions, make_cat_heatmap, view_values_frequency, make_mix_pipeline, calc_outliers\n",
    "from sklearn.model_selection import train_test_split, cross_validate\n",
    "from sklearn.linear_model import LinearRegression, Lasso, Ridge\n",
    "from sklearn.preprocessing import MinMaxScaler, OneHotEncoder\n",
    "from sklearn.pipeline import Pipeline, make_pipeline\n",
    "from sklearn.compose import ColumnTransformer, make_column_selector\n",
    "from sklearn.impute import SimpleImputer\n",
    "from sklearn import set_config"
   ]
  },
  {
   "cell_type": "markdown",
   "metadata": {
    "slideshow": {
     "slide_type": "slide"
    }
   },
   "source": [
    "# Import des packages, Chargement du dataset, fonction de vision de base"
   ]
  },
  {
   "cell_type": "code",
   "execution_count": 1015,
   "metadata": {
    "slideshow": {
     "slide_type": "slide"
    }
   },
   "outputs": [],
   "source": [
    "df = pd.read_csv('wines_SPA.csv')\n",
    "df.drop_duplicates(inplace=True)"
   ]
  },
  {
   "cell_type": "code",
   "execution_count": 1016,
   "metadata": {
    "slideshow": {
     "slide_type": "slide"
    }
   },
   "outputs": [
    {
     "data": {
      "text/plain": [
       "(2048, 11)"
      ]
     },
     "execution_count": 1016,
     "metadata": {},
     "output_type": "execute_result"
    }
   ],
   "source": [
    "df.shape"
   ]
  },
  {
   "attachments": {},
   "cell_type": "markdown",
   "metadata": {},
   "source": [
    "Nous avons un data set de 2048 lignes et 11 colonnes\n",
    "Observons les infos:"
   ]
  },
  {
   "cell_type": "code",
   "execution_count": 1017,
   "metadata": {
    "slideshow": {
     "slide_type": "slide"
    }
   },
   "outputs": [
    {
     "name": "stdout",
     "output_type": "stream",
     "text": [
      "<class 'pandas.core.frame.DataFrame'>\n",
      "Int64Index: 2048 entries, 0 to 6100\n",
      "Data columns (total 11 columns):\n",
      " #   Column       Non-Null Count  Dtype  \n",
      "---  ------       --------------  -----  \n",
      " 0   winery       2048 non-null   object \n",
      " 1   wine         2048 non-null   object \n",
      " 2   year         2046 non-null   object \n",
      " 3   rating       2048 non-null   float64\n",
      " 4   num_reviews  2048 non-null   int64  \n",
      " 5   country      2048 non-null   object \n",
      " 6   region       2048 non-null   object \n",
      " 7   price        2048 non-null   float64\n",
      " 8   type         1942 non-null   object \n",
      " 9   body         1777 non-null   float64\n",
      " 10  acidity      1777 non-null   float64\n",
      "dtypes: float64(4), int64(1), object(6)\n",
      "memory usage: 192.0+ KB\n"
     ]
    }
   ],
   "source": [
    "df.info()"
   ]
  },
  {
   "cell_type": "code",
   "execution_count": 1018,
   "metadata": {},
   "outputs": [
    {
     "data": {
      "text/plain": [
       "winery           0\n",
       "wine             0\n",
       "year             2\n",
       "rating           0\n",
       "num_reviews      0\n",
       "country          0\n",
       "region           0\n",
       "price            0\n",
       "type           106\n",
       "body           271\n",
       "acidity        271\n",
       "dtype: int64"
      ]
     },
     "execution_count": 1018,
     "metadata": {},
     "output_type": "execute_result"
    }
   ],
   "source": [
    "df.isnull().sum()"
   ]
  },
  {
   "attachments": {},
   "cell_type": "markdown",
   "metadata": {},
   "source": [
    "2 valeurs nulles dans 'year' qui sont nulles\n",
    "\n",
    "Après avoir vérifié les prix pratiqué en fonction des années, les vins portant le même nom et le nombre de review, j'en ai conclu que ces deux éléments ne sont pas remplaçable par une valeur. (une valeur mediane ou moyenne serait abérrante puisque l'un des vins est tout seul et l'autre se situe sur un intervalle trop grand entre de 1980 à 2021, or la qualité dépend de l'année du cépage)\n",
    "\n",
    "Les valeurs N.V. n'étaient pas remplaçable ou conduiraient à des duplicatas"
   ]
  },
  {
   "cell_type": "code",
   "execution_count": 1019,
   "metadata": {},
   "outputs": [],
   "source": [
    "df = df.dropna(subset=['year'])\n",
    "df = df.drop(df[df['year'] == 'N.V.'].index)\n",
    "df['year'] = df['year'].astype(float)"
   ]
  },
  {
   "cell_type": "code",
   "execution_count": 1020,
   "metadata": {},
   "outputs": [],
   "source": [
    "ret = {}\n",
    "for col in df.columns:\n",
    "    ret[col] = df[col].unique()\n"
   ]
  },
  {
   "cell_type": "code",
   "execution_count": 1021,
   "metadata": {},
   "outputs": [
    {
     "name": "stdout",
     "output_type": "stream",
     "text": [
      "                           winery                            wine    year  rating  num_reviews country            region    price                  type  body  acidity\n",
      "16                   Vega Sicilia                           Unico  1962.0     4.8          295  Espana  Ribera del Duero  1620.00  Ribera Del Duero Red   5.0      3.0\n",
      "83              Dominio de Pingus                          Pingus  2004.0     4.7          285  Espana  Ribera del Duero  1500.00  Ribera Del Duero Red   5.0      3.0\n",
      "92                   Vega Sicilia                           Unico  1968.0     4.7          225  Espana  Ribera del Duero  2087.25  Ribera Del Duero Red   5.0      3.0\n",
      "97                   Vega Sicilia  Unico Reserva Especial Edicion  1995.0     4.7          196  Espana  Ribera del Duero  1500.00  Ribera Del Duero Red   5.0      3.0\n",
      "98              Dominio de Pingus                          Pingus  1999.0     4.7          184  Espana  Ribera del Duero  1715.18  Ribera Del Duero Red   5.0      3.0\n",
      "115              Bodega Numanthia                      Termanthia  2004.0     4.7          108  Espana              Toro  2814.16              Toro Red   5.0      3.0\n",
      "188             Dominio de Pingus                          Pingus  2005.0     4.6          293  Espana  Ribera del Duero  1785.96  Ribera Del Duero Red   5.0      3.0\n",
      "196                  Vega Sicilia                           Unico  1965.0     4.6          218  Espana  Ribera del Duero  2884.04  Ribera Del Duero Red   5.0      3.0\n",
      "199             Dominio de Pingus                          Pingus  2003.0     4.6          205  Espana  Ribera del Duero  1638.95  Ribera Del Duero Red   5.0      3.0\n",
      "205             Dominio de Pingus                          Pingus  2014.0     4.6          172  Espana  Ribera del Duero  1595.00  Ribera Del Duero Red   5.0      3.0\n",
      "234             Dominio de Pingus                          Pingus  2000.0     4.6          122  Espana  Ribera del Duero  1503.00  Ribera Del Duero Red   5.0      3.0\n",
      "248             Dominio de Pingus                          Pingus  1996.0     4.6          102  Espana  Ribera del Duero  1746.94  Ribera Del Duero Red   5.0      3.0\n",
      "280               Alvaro Palacios  L'Ermita Velles Vinyes Priorat  2010.0     4.6           60  Espana          Priorato  2750.00           Priorat Red   4.0      3.0\n",
      "332               Alvaro Palacios  L'Ermita Velles Vinyes Priorat  2014.0     4.6           30  Espana          Priorato  1660.00           Priorat Red   4.0      3.0\n",
      "338  Descendientes de J. Palacios    La Faraona Bierzo (Corullon)  2010.0     4.6           28  Espana            Bierzo  3119.08                   Red   4.0      3.0\n",
      "343               Alvaro Palacios  L'Ermita Velles Vinyes Priorat  2011.0     4.6           27  Espana          Priorato  2750.00           Priorat Red   4.0      3.0\n",
      "\n",
      "                    winery                                         wine    year  rating  num_reviews country              region    price                  type  body  acidity\n",
      "13            Vega Sicilia                                        Unico  1970.0     4.8          417  Espana    Ribera del Duero   925.00  Ribera Del Duero Red   5.0      3.0\n",
      "14             Toro Albala                    Don PX Convento Seleccion  1946.0     4.8          398  Espana    Montilla-Moriles   350.00         Pedro Ximenez   5.0      1.0\n",
      "16            Vega Sicilia                                        Unico  1962.0     4.8          295  Espana    Ribera del Duero  1620.00  Ribera Del Duero Red   5.0      3.0\n",
      "23             Toro Albala                    Don PX Convento Seleccion  1931.0     4.8          139  Espana    Montilla-Moriles   244.85         Pedro Ximenez   5.0      1.0\n",
      "25            Vega Sicilia                                        Unico  1979.0     4.8          118  Espana    Ribera del Duero   815.00  Ribera Del Duero Red   5.0      3.0\n",
      "26             Toro Albala                         Don PX Pedro Ximenez  1946.0     4.8          103  Espana    Montilla-Moriles   285.86         Pedro Ximenez   5.0      1.0\n",
      "31            Vega Sicilia               Unico Reserva Especial Edicion  1985.0     4.8           70  Espana    Ribera del Duero  1182.77  Ribera Del Duero Red   5.0      3.0\n",
      "32             Toro Albala                    Don PX Convento Seleccion  1929.0     4.8           69  Espana    Montilla-Moriles   227.95         Pedro Ximenez   5.0      1.0\n",
      "44           La Rioja Alta                             Gran Reserva 890  1985.0     4.8           26  Espana               Rioja   215.34             Rioja Red   4.0      3.0\n",
      "61            Vega Sicilia                                        Unico  1991.0     4.7         1141  Espana    Ribera del Duero   698.90  Ribera Del Duero Red   5.0      3.0\n",
      "62            Vega Sicilia                                        Unico  1994.0     4.7          940  Espana    Ribera del Duero   872.47  Ribera Del Duero Red   5.0      3.0\n",
      "64            Vega Sicilia                                        Unico  1990.0     4.7          690  Espana    Ribera del Duero   827.94  Ribera Del Duero Red   5.0      3.0\n",
      "66            Vega Sicilia                                        Unico  1989.0     4.7          675  Espana    Ribera del Duero   679.72  Ribera Del Duero Red   5.0      3.0\n",
      "67            Vega Sicilia                                        Unico  1987.0     4.7          593  Espana    Ribera del Duero   787.59  Ribera Del Duero Red   5.0      3.0\n",
      "73     Marques de Murrieta   Castillo Ygay Gran Reserva Especial Blanco  1986.0     4.7          425  Espana               Rioja   795.00           Rioja White   3.0      3.0\n",
      "77            Vega Sicilia                                        Unico  1981.0     4.7          308  Espana    Ribera del Duero   873.86  Ribera Del Duero Red   5.0      3.0\n",
      "81            Vega Sicilia                                        Unico  1986.0     4.7          292  Espana    Ribera del Duero   812.63  Ribera Del Duero Red   5.0      3.0\n",
      "88            Vega Sicilia                                        Unico  1985.0     4.7          254  Espana    Ribera del Duero   827.94  Ribera Del Duero Red   5.0      3.0\n",
      "92            Vega Sicilia                                        Unico  1968.0     4.7          225  Espana    Ribera del Duero  2087.25  Ribera Del Duero Red   5.0      3.0\n",
      "94            Vega Sicilia                                        Unico  1964.0     4.7          214  Espana    Ribera del Duero  1384.54  Ribera Del Duero Red   5.0      3.0\n",
      "95            Vega Sicilia                                        Unico  1982.0     4.7          205  Espana    Ribera del Duero   820.98  Ribera Del Duero Red   5.0      3.0\n",
      "99            Vega Sicilia                                        Unico  1974.0     4.7          173  Espana    Ribera del Duero   932.30  Ribera Del Duero Red   5.0      3.0\n",
      "110           Vega Sicilia                                        Unico  1983.0     4.7          118  Espana    Ribera del Duero   700.00  Ribera Del Duero Red   5.0      3.0\n",
      "111            Toro Albala                    Don PX Convento Seleccion  1955.0     4.7          117  Espana    Montilla-Moriles   185.00         Pedro Ximenez   5.0      1.0\n",
      "112           Vega Sicilia                                        Unico  1980.0     4.7          116  Espana    Ribera del Duero   911.43  Ribera Del Duero Red   5.0      3.0\n",
      "114           Vega Sicilia                                        Unico  1972.0     4.7          110  Espana    Ribera del Duero   698.95  Ribera Del Duero Red   5.0      3.0\n",
      "118           Vega Sicilia               Unico Reserva Especial Edicion  1987.0     4.7          100  Espana    Ribera del Duero  1071.45  Ribera Del Duero Red   5.0      3.0\n",
      "121           Vega Sicilia                                        Unico  1953.0     4.7           89  Espana    Ribera del Duero  1207.60  Ribera Del Duero Red   5.0      3.0\n",
      "130           Vega Sicilia               Unico Reserva Especial Edicion  1986.0     4.7           63  Espana    Ribera del Duero  1113.20  Ribera Del Duero Red   5.0      3.0\n",
      "134          La Rioja Alta                             Gran Reserva 890  1982.0     4.7           57  Espana               Rioja   292.09             Rioja Red   4.0      3.0\n",
      "135         Gonzalez-Byass                      Anada Palo Cortado 1987  1987.0     4.7           53  Espana  Jerez Palo Cortado   400.85                Sherry   4.0      3.0\n",
      "137            Toro Albala                         Don PX Pedro Ximenez  1955.0     4.7           50  Espana    Montilla-Moriles   250.00         Pedro Ximenez   5.0      1.0\n",
      "140            Toro Albala                    Don PX Convento Seleccion  1958.0     4.7           47  Espana    Montilla-Moriles   191.61         Pedro Ximenez   5.0      1.0\n",
      "156   Gutierrez de la Vega           Recondita Armonia Monastrell Dulce  1987.0     4.7           27  Espana            Alicante    81.90                   NaN   NaN      NaN\n",
      "157    Marques de Murrieta    Castillo Ygay Gran Reserva Especial Tinto  1942.0     4.7           27  Espana               Rioja   680.00             Rioja Red   4.0      3.0\n",
      "196           Vega Sicilia                                        Unico  1965.0     4.6          218  Espana    Ribera del Duero  2884.04  Ribera Del Duero Red   5.0      3.0\n",
      "204           Vega Sicilia                                  Valbuena 5o  1992.0     4.6          176  Espana    Ribera del Duero   195.00  Ribera Del Duero Red   5.0      3.0\n",
      "212           Vega Sicilia                                        Unico  1973.0     4.6          157  Espana    Ribera del Duero   932.30  Ribera Del Duero Red   5.0      3.0\n",
      "217           Vega Sicilia                                  Valbuena 5o  1985.0     4.6          146  Espana    Ribera del Duero   285.00  Ribera Del Duero Red   5.0      3.0\n",
      "219           Vega Sicilia                                  Valbuena 5o  1989.0     4.6          143  Espana    Ribera del Duero   228.57  Ribera Del Duero Red   5.0      3.0\n",
      "226           Vega Sicilia               Unico Reserva Especial Edicion  1989.0     4.6          133  Espana    Ribera del Duero   895.40  Ribera Del Duero Red   5.0      3.0\n",
      "232           Vega Sicilia                                        Unico  1967.0     4.6          123  Espana    Ribera del Duero  1106.24  Ribera Del Duero Red   5.0      3.0\n",
      "238           Vega Sicilia                                        Unico  1975.0     4.6          115  Espana    Ribera del Duero   769.90  Ribera Del Duero Red   5.0      3.0\n",
      "262           Vega Sicilia                                  Valbuena 5o  1980.0     4.6           84  Espana    Ribera del Duero   195.00  Ribera Del Duero Red   5.0      3.0\n",
      "270            Toro Albala                  Gines Liebana Pedro Ximenez  1910.0     4.6           70  Espana    Montilla-Moriles   701.05         Pedro Ximenez   5.0      1.0\n",
      "273           Vega Sicilia                                  Valbuena 5o  1983.0     4.6           66  Espana    Ribera del Duero   247.75  Ribera Del Duero Red   5.0      3.0\n",
      "274            Toro Albala                             Don PX Seleccion  1965.0     4.6           65  Espana    Montilla-Moriles   144.99         Pedro Ximenez   5.0      1.0\n",
      "291           Vega Sicilia                                        Unico  1961.0     4.6           50  Espana    Ribera del Duero  1099.28  Ribera Del Duero Red   5.0      3.0\n",
      "299           Vega Sicilia                                  Valbuena 5o  1979.0     4.6           46  Espana    Ribera del Duero   195.00  Ribera Del Duero Red   5.0      3.0\n",
      "306    Marques de Murrieta                   Reserva Rioja (Finca Ygay)  1954.0     4.6           42  Espana               Rioja   210.00             Rioja Red   4.0      3.0\n",
      "314           Vega Sicilia               Unico Reserva Especial Edicion  1982.0     4.6           39  Espana    Ribera del Duero  1238.43  Ribera Del Duero Red   5.0      3.0\n",
      "320              Vina Real                           Rioja Gran Reserva  1986.0     4.6           35  Espana               Rioja   123.00             Rioja Red   4.0      3.0\n",
      "322            Toro Albala                             Don PX Seleccion  1962.0     4.6           34  Espana    Montilla-Moriles   207.00         Pedro Ximenez   5.0      1.0\n",
      "348            Toro Albala                         Don PX Pedro Ximenez  1968.0     4.6           25  Espana    Montilla-Moriles   181.50         Pedro Ximenez   5.0      1.0\n",
      "435           Vega Sicilia                                  Valbuena 5o  1987.0     4.5          221  Espana    Ribera del Duero   312.00  Ribera Del Duero Red   5.0      3.0\n",
      "483           Vega Sicilia                                  Valbuena 5o  1988.0     4.5          126  Espana    Ribera del Duero   228.63  Ribera Del Duero Red   5.0      3.0\n",
      "508            Toro Albala                         Don PX Vieja Cosecha  1973.0     4.5           95  Espana    Montilla-Moriles   113.00         Pedro Ximenez   5.0      1.0\n",
      "524    R. Lopez de Heredia            Vina Tondonia Gran Reserva Blanco  1981.0     4.5           78  Espana          Rioja Alta   274.95           Rioja White   3.0      3.0\n",
      "551           Vega Sicilia                                        Unico  1969.0     4.5           60  Espana    Ribera del Duero   976.83  Ribera Del Duero Red   5.0      3.0\n",
      "556          La Rioja Alta                       Rioja Gran Reserva 904  1987.0     4.5           57  Espana               Rioja   190.00             Rioja Red   4.0      3.0\n",
      "559                Beronia                           Rioja Gran Reserva  1994.0     4.5           54  Espana               Rioja    61.00             Rioja Red   4.0      3.0\n",
      "560             Monte Real                                 Gran Reserva  1964.0     4.5           54  Espana               Rioja   140.00             Rioja Red   4.0      3.0\n",
      "561            Toro Albala  Marques de Poley Amontillado Seleccion 1951  1951.0     4.5           53  Espana    Montilla-Moriles   169.95         Pedro Ximenez   5.0      1.0\n",
      "581     Federico Paternina                                 Gran Reserva  1928.0     4.5           43  Espana               Rioja   270.00             Rioja Red   4.0      3.0\n",
      "593           Vega Sicilia                                  Valbuena 5o  1976.0     4.5           37  Espana    Ribera del Duero   195.00  Ribera Del Duero Red   5.0      3.0\n",
      "598            Toro Albala                             Don PX Seleccion  1949.0     4.5           34  Espana    Montilla-Moriles   295.00         Pedro Ximenez   5.0      1.0\n",
      "608           Vega Sicilia                                  Valbuena 5o  1975.0     4.5           31  Espana    Ribera del Duero   195.00  Ribera Del Duero Red   5.0      3.0\n",
      "612         Gonzalez-Byass                      Anada Palo Cortado 1987  1991.0     4.5           30  Espana  Jerez Palo Cortado   230.00                Sherry   4.0      3.0\n",
      "617         Tinto Pesquera                                      Reserva  1986.0     4.5           29  Espana    Ribera del Duero    90.00  Ribera Del Duero Red   5.0      3.0\n",
      "763            Toro Albala                         Don PX Pedro Ximenez  1994.0     4.4          306  Espana    Montilla-Moriles    35.90         Pedro Ximenez   5.0      1.0\n",
      "791           Vega Sicilia                                  Valbuena 5o  1994.0     4.4          218  Espana    Ribera del Duero   249.80  Ribera Del Duero Red   5.0      3.0\n",
      "826     Marques de Caceres                                      Gaudium  1994.0     4.4          159  Espana               Rioja   125.00             Rioja Red   4.0      3.0\n",
      "881          La Rioja Alta                       Rioja Gran Reserva 904  1982.0     4.4          106  Espana               Rioja   145.00             Rioja Red   4.0      3.0\n",
      "901            Toro Albala                         Don PX Pedro Ximenez  1986.0     4.4           95  Espana    Montilla-Moriles   225.00         Pedro Ximenez   5.0      1.0\n",
      "920    Marques de Murrieta    Castillo Ygay Gran Reserva Especial Tinto  1959.0     4.4           80  Espana               Rioja   940.00             Rioja Red   4.0      3.0\n",
      "935            Toro Albala                          Don PX Gran Reserva  1990.0     4.4           73  Espana    Montilla-Moriles    35.90         Pedro Ximenez   5.0      1.0\n",
      "939                   Muga                      Prado Enea Gran Reserva  1989.0     4.4           72  Espana               Rioja   140.00             Rioja Red   4.0      3.0\n",
      "940                   Muga                      Prado Enea Gran Reserva  1991.0     4.4           72  Espana               Rioja   167.00             Rioja Red   4.0      3.0\n",
      "986           Vega Sicilia                                  Valbuena 5o  1982.0     4.4           56  Espana    Ribera del Duero   225.00  Ribera Del Duero Red   5.0      3.0\n",
      "1004     Martinez Lacuesta                       Rioja Reserva Especial  1922.0     4.4           51  Espana          Rioja Alta   280.00             Rioja Red   4.0      3.0\n",
      "1017           Toro Albala                             Don PX Seleccion  1968.0     4.4           45  Espana    Montilla-Moriles   165.00         Pedro Ximenez   5.0      1.0\n",
      "1018            Monte Real                                 Gran Reserva  1978.0     4.4           45  Espana               Rioja    97.00             Rioja Red   4.0      3.0\n",
      "1027                Artadi                         Grandes Anadas Rioja  1994.0     4.4           43  Espana               Rioja   180.00             Rioja Red   4.0      3.0\n",
      "1035              Imperial                                Rioja Reserva  1982.0     4.4           41  Espana               Rioja   145.00             Rioja Red   4.0      3.0\n",
      "1049           Toro Albala                         Don PX Pedro Ximenez  1973.0     4.4           37  Espana    Montilla-Moriles   109.76         Pedro Ximenez   5.0      1.0\n",
      "1053           Toro Albala                          Don PX Gran Reserva  1994.0     4.4           36  Espana    Montilla-Moriles    33.23         Pedro Ximenez   5.0      1.0\n",
      "1070        Tinto Pesquera                                 Gran Reserva  1994.0     4.4           34  Espana    Ribera del Duero   138.00  Ribera Del Duero Red   5.0      3.0\n",
      "1092           Toro Albala                    Don PX Convento Seleccion  1968.0     4.4           28  Espana    Montilla-Moriles   173.00         Pedro Ximenez   5.0      1.0\n",
      "1110            Vina Pomal                                      Reserva  1970.0     4.4           25  Espana               Rioja    72.00             Rioja Red   4.0      3.0\n",
      "1256      Bodegas Faustino                               I Gran Reserva  1964.0     4.3          454  Espana               Rioja   272.00             Rioja Red   4.0      3.0\n",
      "1259      Bodegas Faustino                               I Gran Reserva  1970.0     4.3          449  Espana               Rioja   206.91             Rioja Red   4.0      3.0\n",
      "1275   Marques de Murrieta    Castillo Ygay Gran Reserva Especial Tinto  1989.0     4.3          404  Espana               Rioja   160.00             Rioja Red   4.0      3.0\n",
      "1305      Bodegas Faustino                               I Gran Reserva  1982.0     4.3          298  Espana               Rioja   425.00             Rioja Red   NaN      NaN\n",
      "1308     Marques de Riscal                                Rioja Reserva  1994.0     4.3          296  Espana               Rioja    65.00             Rioja Red   NaN      NaN\n",
      "1355   Marques de Murrieta    Castillo Ygay Gran Reserva Especial Tinto  1994.0     4.3          216  Espana               Rioja   182.00             Rioja Red   4.0      3.0\n",
      "1417         La Rioja Alta                       Rioja Gran Reserva 904  1989.0     4.3          154  Espana               Rioja   150.00             Rioja Red   NaN      NaN\n",
      "1497           Toro Albala                          Don PX Gran Reserva  1988.0     4.3          104  Espana    Montilla-Moriles    19.80         Pedro Ximenez   5.0      1.0\n",
      "1500   R. Lopez de Heredia                        Vina Tondonia Reserva  1964.0     4.3          101  Espana               Rioja   249.00             Rioja Red   4.0      3.0\n",
      "1518                  Muga                      Prado Enea Gran Reserva  1982.0     4.3           90  Espana               Rioja   150.00             Rioja Red   4.0      3.0\n",
      "1524         La Rioja Alta                             Gran Reserva 890  1989.0     4.3           88  Espana               Rioja   215.34             Rioja Red   4.0      3.0\n",
      "1559      Bodegas Faustino           Faustino de Autor Reserva Especial  1994.0     4.3           76  Espana               Rioja    45.00             Rioja Red   4.0      3.0\n",
      "1560         La Rioja Alta                       Rioja Gran Reserva 904  1964.0     4.3           76  Espana               Rioja   260.00             Rioja Red   4.0      3.0\n",
      "1562                  Muga                      Prado Enea Gran Reserva  1985.0     4.3           75  Espana               Rioja    98.00             Rioja Red   4.0      3.0\n",
      "1573         La Rioja Alta                         Vina Ardanza Reserva  1985.0     4.3           72  Espana               Rioja    75.00             Rioja Red   4.0      3.0\n",
      "1589   R. Lopez de Heredia                   Vina Tondonia Gran Reserva  1981.0     4.3           66  Espana               Rioja   199.00             Rioja Red   4.0      3.0\n",
      "1640         La Rioja Alta                       Rioja Gran Reserva 904  1970.0     4.3           53  Espana               Rioja   260.00             Rioja Red   4.0      3.0\n",
      "1662   Marques de Murrieta    Castillo Ygay Gran Reserva Especial Tinto  1925.0     4.3           48  Espana               Rioja   532.00             Rioja Red   4.0      3.0\n",
      "1668         La Rioja Alta                             Gran Reserva 890  1981.0     4.3           47  Espana               Rioja   270.00             Rioja Red   4.0      3.0\n",
      "1737    Marques de Caceres                                Rioja Reserva  1985.0     4.3           35  Espana               Rioja    45.00             Rioja Red   4.0      3.0\n",
      "1742       Finca Valpiedra                                Rioja Reserva  1994.0     4.3           34  Espana               Rioja    65.00             Rioja Red   4.0      3.0\n",
      "1773                  Muga                      Prado Enea Gran Reserva  1970.0     4.3           29  Espana               Rioja   120.00             Rioja Red   4.0      3.0\n",
      "1776                   AGE                       Fuenmayor Gran Reserva  1959.0     4.3           29  Espana               Rioja   230.00             Rioja Red   4.0      3.0\n",
      "1778     Marques de Riscal                                Rioja Reserva  1964.0     4.3           29  Espana               Rioja   310.00             Rioja Red   4.0      3.0\n",
      "1786      Bodegas Faustino                               I Gran Reserva  1968.0     4.3           28  Espana               Rioja   160.00             Rioja Red   4.0      3.0\n",
      "1859      Bodegas Faustino                               I Gran Reserva  1994.0     4.2         2074  Espana               Rioja   124.50             Rioja Red   4.0      3.0\n",
      "1995              Culebron                       Fondillon Gran Reserva  1964.0     4.2          432  Espana            Alicante    49.95                   NaN   NaN      NaN\n",
      "\n",
      "                                     winery                                       wine    year  rating  num_reviews country            region       price                  type  body  acidity\n",
      "2                              Vega Sicilia                                      Unico  2009.0     4.8         1793  Espana  Ribera del Duero  324.950000  Ribera Del Duero Red   5.0      3.0\n",
      "3                              Vega Sicilia                                      Unico  1999.0     4.8         1705  Espana  Ribera del Duero  692.960000  Ribera Del Duero Red   5.0      3.0\n",
      "47                             Vega Sicilia                                Valbuena 5o  2010.0     4.7         5266  Espana  Ribera del Duero  239.500000  Ribera Del Duero Red   5.0      3.0\n",
      "48                             Vega Sicilia                                Valbuena 5o  2014.0     4.7         4350  Espana  Ribera del Duero  175.500000  Ribera Del Duero Red   5.0      3.0\n",
      "49                             Vega Sicilia                                Valbuena 5o  2006.0     4.7         3929  Espana  Ribera del Duero  194.000000  Ribera Del Duero Red   5.0      3.0\n",
      "50                             Vega Sicilia                                      Unico  2005.0     4.7         3437  Espana  Ribera del Duero  381.150000  Ribera Del Duero Red   5.0      3.0\n",
      "51                             Vega Sicilia                                      Unico  2004.0     4.7         3164  Espana  Ribera del Duero  584.430000  Ribera Del Duero Red   5.0      3.0\n",
      "52                             Vega Sicilia                                      Unico  2000.0     4.7         3127  Espana  Ribera del Duero  555.200000  Ribera Del Duero Red   5.0      3.0\n",
      "53                             Vega Sicilia                                      Unico  2007.0     4.7         2935  Espana  Ribera del Duero  445.280000  Ribera Del Duero Red   5.0      3.0\n",
      "54                             Vega Sicilia                                Valbuena 5o  2015.0     4.7         2826  Espana  Ribera del Duero  189.000000  Ribera Del Duero Red   5.0      3.0\n",
      "55                             Vega Sicilia                                      Unico  2006.0     4.7         2765  Espana  Ribera del Duero  362.250000  Ribera Del Duero Red   5.0      3.0\n",
      "56                             Vega Sicilia                                      Unico  2008.0     4.7         2480  Espana  Ribera del Duero  289.000000  Ribera Del Duero Red   5.0      3.0\n",
      "57                             Vega Sicilia                                      Unico  2003.0     4.7         2419  Espana  Ribera del Duero  325.000000  Ribera Del Duero Red   5.0      3.0\n",
      "58                             Vega Sicilia                                Valbuena 5o  2016.0     4.7         2177  Espana  Ribera del Duero  107.570000  Ribera Del Duero Red   5.0      3.0\n",
      "59                             Vega Sicilia                                Valbuena 5o  2005.0     4.7         1892  Espana  Ribera del Duero  234.000000  Ribera Del Duero Red   5.0      3.0\n",
      "158                            Vega Sicilia                                Valbuena 5o  2011.0     4.6         6803  Espana  Ribera del Duero  218.000000  Ribera Del Duero Red   5.0      3.0\n",
      "159                            Vega Sicilia                                Valbuena 5o  2012.0     4.6         5938  Espana  Ribera del Duero  177.000000  Ribera Del Duero Red   5.0      3.0\n",
      "160                            Vega Sicilia                                Valbuena 5o  2008.0     4.6         5545  Espana  Ribera del Duero  187.300000  Ribera Del Duero Red   5.0      3.0\n",
      "161                            Vega Sicilia                                Valbuena 5o  2007.0     4.6         5116  Espana  Ribera del Duero  195.590000  Ribera Del Duero Red   5.0      3.0\n",
      "162                            Vega Sicilia                                Valbuena 5o  2013.0     4.6         4747  Espana  Ribera del Duero  135.000000  Ribera Del Duero Red   5.0      3.0\n",
      "163                            Vega Sicilia                                Valbuena 5o  2009.0     4.6         4685  Espana  Ribera del Duero  225.200000  Ribera Del Duero Red   5.0      3.0\n",
      "164                                   Alion                           Ribera del Duero  2016.0     4.6         4516  Espana  Ribera del Duero   79.800000  Ribera Del Duero Red   5.0      3.0\n",
      "165                                   Aalto  PS (Pagos Seleccionados) Ribera del Duero  2017.0     4.6         3383  Espana  Ribera del Duero  116.187944  Ribera Del Duero Red   5.0      3.0\n",
      "166                                   Aalto  PS (Pagos Seleccionados) Ribera del Duero  2018.0     4.6         3239  Espana  Ribera del Duero   89.300000  Ribera Del Duero Red   5.0      3.0\n",
      "167                     Marques de Murrieta  Castillo Ygay Gran Reserva Especial Tinto  2010.0     4.6         2416  Espana             Rioja  438.900000             Rioja Red   4.0      3.0\n",
      "168                                   Alion                           Ribera del Duero  2017.0     4.6         2208  Espana  Ribera del Duero   79.900000  Ribera Del Duero Red   5.0      3.0\n",
      "169                            Vega Sicilia                                Valbuena 5o  2004.0     4.6         1608  Espana  Ribera del Duero  249.000000  Ribera Del Duero Red   5.0      3.0\n",
      "349                     Pago de Carraovejas                                      Tinto  2016.0     4.5         7529  Espana  Ribera del Duero   29.800000  Ribera Del Duero Red   5.0      3.0\n",
      "350                                   Alion                           Ribera del Duero  2013.0     4.5         7435  Espana  Ribera del Duero   73.000000  Ribera Del Duero Red   5.0      3.0\n",
      "351                                   Alion                           Ribera del Duero  2014.0     4.5         7237  Espana  Ribera del Duero   56.270000  Ribera Del Duero Red   5.0      3.0\n",
      "352                                  Pintia                                       Toro  2014.0     4.5         5863  Espana              Toro   69.000000              Toro Red   5.0      3.0\n",
      "353                     Pago de Carraovejas                                      Tinto  2018.0     4.5         5372  Espana  Ribera del Duero   45.000000  Ribera Del Duero Red   5.0      3.0\n",
      "354                                   Alion                           Ribera del Duero  2015.0     4.5         5365  Espana  Ribera del Duero   75.000000  Ribera Del Duero Red   5.0      3.0\n",
      "355                                  Pintia                                       Toro  2015.0     4.5         4979  Espana              Toro   69.800000              Toro Red   5.0      3.0\n",
      "356                     Pago de Carraovejas                                      Tinto  2017.0     4.5         4935  Espana  Ribera del Duero  121.936826  Ribera Del Duero Red   5.0      3.0\n",
      "357                                   Aalto  PS (Pagos Seleccionados) Ribera del Duero  2016.0     4.5         4411  Espana  Ribera del Duero   78.650000  Ribera Del Duero Red   5.0      3.0\n",
      "358                     Marques de Murrieta  Castillo Ygay Gran Reserva Especial Tinto  2005.0     4.5         3521  Espana             Rioja  400.000000             Rioja Red   4.0      3.0\n",
      "359                           La Rioja Alta                           Gran Reserva 890  2005.0     4.5         3443  Espana             Rioja  125.000000             Rioja Red   4.0      3.0\n",
      "360                     Marques de Murrieta  Castillo Ygay Gran Reserva Especial Tinto  2009.0     4.5         3148  Espana             Rioja  229.000000             Rioja Red   4.0      3.0\n",
      "361                                  Pintia                                       Toro  2016.0     4.5         3118  Espana              Toro   40.410000              Toro Red   5.0      3.0\n",
      "362                       Dominio de Pingus                             Flor de Pingus  2016.0     4.5         2887  Espana  Ribera del Duero  101.940000  Ribera Del Duero Red   5.0      3.0\n",
      "363                                   Aalto  PS (Pagos Seleccionados) Ribera del Duero  2015.0     4.5         2858  Espana  Ribera del Duero  172.500000  Ribera Del Duero Red   5.0      3.0\n",
      "364                         Bodegas El Nido                                       Clio  2015.0     4.5         2712  Espana           Jumilla   33.200000                   Red   4.0      3.0\n",
      "365                       Dominio de Pingus                             Flor de Pingus  2014.0     4.5         2710  Espana  Ribera del Duero  125.000000  Ribera Del Duero Red   5.0      3.0\n",
      "366                       Dominio de Pingus                             Flor de Pingus  2010.0     4.5         2551  Espana  Ribera del Duero  125.000000  Ribera Del Duero Red   5.0      3.0\n",
      "367                       Dominio de Pingus                             Flor de Pingus  2015.0     4.5         2530  Espana  Ribera del Duero  125.000000  Ribera Del Duero Red   5.0      3.0\n",
      "368                         Bodegas El Nido                                       Clio  2016.0     4.5         2228  Espana           Jumilla   31.750000                   Red   4.0      3.0\n",
      "369                         Bodegas El Nido                                       Clio  2017.0     4.5         2220  Espana           Jumilla   39.500000                   Red   4.0      3.0\n",
      "370                                   Aalto  PS (Pagos Seleccionados) Ribera del Duero  2011.0     4.5         2207  Espana  Ribera del Duero   64.000000  Ribera Del Duero Red   5.0      3.0\n",
      "371                     Pago de Carraovejas                                      Tinto  2019.0     4.5         2144  Espana  Ribera del Duero   33.800000  Ribera Del Duero Red   5.0      3.0\n",
      "372   Benjamin de Rothschild - Vega Sicilia                                      Macan  2014.0     4.5         1910  Espana             Rioja   58.950000             Rioja Red   4.0      3.0\n",
      "373                                   Aalto                                      Tinto  2018.0     4.5         1864  Espana  Ribera del Duero   33.250000  Ribera Del Duero Red   5.0      3.0\n",
      "631                                   Alion                           Ribera del Duero  2009.0     4.4         6395  Espana  Ribera del Duero  189.000000  Ribera Del Duero Red   NaN      NaN\n",
      "632                                  Pintia                                       Toro  2011.0     4.4         5732  Espana              Toro   39.500000              Toro Red   NaN      NaN\n",
      "633                                  Pintia                                       Toro  2012.0     4.4         5614  Espana              Toro   89.900000              Toro Red   NaN      NaN\n",
      "634                                  Pintia                                       Toro  2013.0     4.4         5204  Espana              Toro   76.800000              Toro Red   NaN      NaN\n",
      "635                           La Rioja Alta                     Rioja Gran Reserva 904  2009.0     4.4         5109  Espana             Rioja   47.500000             Rioja Red   NaN      NaN\n",
      "636                             Matarromera                   Ribera del Duero Reserva  2016.0     4.4         4851  Espana  Ribera del Duero   31.500000  Ribera Del Duero Red   NaN      NaN\n",
      "637                           La Rioja Alta                     Rioja Gran Reserva 904  2011.0     4.4         4625  Espana             Rioja   47.950000             Rioja Red   NaN      NaN\n",
      "638                           La Rioja Alta                     Rioja Gran Reserva 904  2007.0     4.4         4357  Espana             Rioja   47.950000             Rioja Red   NaN      NaN\n",
      "639                             Emilio Moro                                  Malleolus  2018.0     4.4         4121  Espana  Ribera del Duero   38.610000  Ribera Del Duero Red   NaN      NaN\n",
      "640                                    Muga               Seleccion Especial (Reserva)  2016.0     4.4         3589  Espana             Rioja   27.900000             Rioja Red   NaN      NaN\n",
      "641                             Matarromera                   Ribera del Duero Reserva  2017.0     4.4         3456  Espana  Ribera del Duero   37.250000  Ribera Del Duero Red   NaN      NaN\n",
      "642                     Hacienda Monasterio                                    Cosecha  2016.0     4.4         3406  Espana  Ribera del Duero   37.800000  Ribera Del Duero Red   NaN      NaN\n",
      "643                           La Rioja Alta                     Rioja Gran Reserva 904  2010.0     4.4         3327  Espana             Rioja   61.550000             Rioja Red   NaN      NaN\n",
      "644                                    Muga                    Prado Enea Gran Reserva  2011.0     4.4         3197  Espana             Rioja   43.950000             Rioja Red   NaN      NaN\n",
      "645                           Bodegas Mauro                                        Red  2018.0     4.4         3095  Espana   Castilla y Leon   31.950000                   Red   NaN      NaN\n",
      "646                         Abadia Retuerta                         Seleccion Especial  2017.0     4.4         3093  Espana   Sardon de Duero   25.500000                   Red   NaN      NaN\n",
      "647                         Bodegas El Nido                                       Clio  2014.0     4.4         3089  Espana           Jumilla   35.650000                   Red   NaN      NaN\n",
      "648                       Dominio de Pingus                             Flor de Pingus  2012.0     4.4         2546  Espana  Ribera del Duero  125.000000  Ribera Del Duero Red   NaN      NaN\n",
      "649                       Dominio de Pingus                             Flor de Pingus  2013.0     4.4         2418  Espana  Ribera del Duero  125.000000  Ribera Del Duero Red   NaN      NaN\n",
      "650                           La Rioja Alta                       Vina Ardanza Reserva  2015.0     4.4         2370  Espana             Rioja   23.000000             Rioja Red   4.0      3.0\n",
      "651                            Bodegas Roda                       Roda I Reserva Rioja  2009.0     4.4         2228  Espana             Rioja   43.500000             Rioja Red   4.0      3.0\n",
      "652                            Bodegas Roda                       Roda I Reserva Rioja  2010.0     4.4         2133  Espana             Rioja   24.700000             Rioja Red   4.0      3.0\n",
      "653                           Tomas Postigo             3er Ano Ribera del Duero Tinto  2017.0     4.4         2080  Espana  Ribera del Duero   27.400000  Ribera Del Duero Red   5.0      3.0\n",
      "654                                   Alion                           Ribera del Duero  2007.0     4.4         2053  Espana  Ribera del Duero   96.000000  Ribera Del Duero Red   5.0      3.0\n",
      "655   Benjamin de Rothschild - Vega Sicilia                              Macan Clasico  2016.0     4.4         1993  Espana             Rioja   37.520000             Rioja Red   4.0      3.0\n",
      "656                            Bodegas Roda                       Roda I Reserva Rioja  2011.0     4.4         1949  Espana             Rioja   43.950000             Rioja Red   4.0      3.0\n",
      "657                                 Atalaya   Alaya Tierra (Old Vines Vieilles Vignes)  2017.0     4.4         1948  Espana           Almansa   19.600000              Grenache   5.0      3.0\n",
      "658                     Marques de Murrieta  Castillo Ygay Gran Reserva Especial Tinto  2004.0     4.4         1943  Espana             Rioja  160.000000             Rioja Red   4.0      3.0\n",
      "659                            Bodegas Roda                       Roda I Reserva Rioja  2012.0     4.4         1853  Espana             Rioja   43.500000             Rioja Red   4.0      3.0\n",
      "660                           Tomas Postigo             3er Ano Ribera del Duero Tinto  2018.0     4.4         1842  Espana  Ribera del Duero   27.750000  Ribera Del Duero Red   5.0      3.0\n",
      "661                     Hacienda Monasterio                                    Cosecha  2018.0     4.4         1777  Espana  Ribera del Duero   32.500000  Ribera Del Duero Red   5.0      3.0\n",
      "662                           Bodegas Mauro                                        Red  2019.0     4.4         1701  Espana   Castilla y Leon   29.450000                   Red   4.0      3.0\n",
      "663                                   Aalto                                      Tinto  2017.0     4.4         1561  Espana  Ribera del Duero   51.526827  Ribera Del Duero Red   5.0      3.0\n",
      "1114                          La Rioja Alta                       Vina Ardanza Reserva  2009.0     4.3        10273  Espana             Rioja   24.380000             Rioja Red   4.0      3.0\n",
      "1115                          La Rioja Alta                       Vina Ardanza Reserva  2012.0     4.3         9092  Espana             Rioja   20.000000             Rioja Red   4.0      3.0\n",
      "1116                         Familia Torres                     San Valentin Parellada  2019.0     4.3         7401  Espana          Cataluna    6.950000                   NaN   NaN      NaN\n",
      "1117                        Abadia Retuerta                         Seleccion Especial  2016.0     4.3         7293  Espana   Sardon de Duero   17.480000                   Red   4.0      3.0\n",
      "1118                    R. Lopez de Heredia                      Vina Tondonia Reserva  2008.0     4.3         6521  Espana             Rioja   37.900000             Rioja Red   4.0      3.0\n",
      "1119                                 Pintia                                       Toro  2010.0     4.3         6345  Espana              Toro   79.750000              Toro Red   5.0      3.0\n",
      "1120                        Abadia Retuerta                         Seleccion Especial  2015.0     4.3         5152  Espana   Sardon de Duero   24.950000                   Red   4.0      3.0\n",
      "1121                          La Rioja Alta                     Rioja Gran Reserva 904  2004.0     4.3         4994  Espana             Rioja   29.900000             Rioja Red   4.0      3.0\n",
      "1122                      Dominio de Pingus                                        PSI  2018.0     4.3         4767  Espana  Ribera del Duero   29.130000  Ribera Del Duero Red   5.0      3.0\n",
      "1123                      Dominio de Pingus                                        PSI  2017.0     4.3         4457  Espana  Ribera del Duero   33.900000  Ribera Del Duero Red   5.0      3.0\n",
      "1124                                   Muga               Seleccion Especial (Reserva)  2015.0     4.3         4266  Espana             Rioja   28.000000             Rioja Red   4.0      3.0\n",
      "1125                    Pago de Carraovejas                                      Tinto  2012.0     4.3         4023  Espana  Ribera del Duero   25.800000  Ribera Del Duero Red   NaN      NaN\n",
      "1126                            Emilio Moro                                  Malleolus  2016.0     4.3         3997  Espana  Ribera del Duero   37.860000  Ribera Del Duero Red   NaN      NaN\n",
      "1127                                   Muga               Seleccion Especial (Reserva)  2014.0     4.3         3829  Espana             Rioja   34.000000             Rioja Red   NaN      NaN\n",
      "1128                            Matarromera                   Ribera del Duero Reserva  2014.0     4.3         3660  Espana  Ribera del Duero   33.640000  Ribera Del Duero Red   NaN      NaN\n",
      "1129                            Matarromera                   Ribera del Duero Reserva  2015.0     4.3         3620  Espana  Ribera del Duero   36.350000  Ribera Del Duero Red   NaN      NaN\n",
      "1130                                   Muga                    Prado Enea Gran Reserva  2006.0     4.3         3608  Espana             Rioja   35.500000             Rioja Red   NaN      NaN\n",
      "1131                          Bodegas Mauro                                        Red  2017.0     4.3         3587  Espana   Castilla y Leon   66.750000                   Red   NaN      NaN\n",
      "1132                                Arzuaga                   Ribera del Duero Crianza  2018.0     4.3         3524  Espana  Ribera del Duero   19.010000  Ribera Del Duero Red   NaN      NaN\n",
      "1133                    Hacienda Monasterio                                    Cosecha  2014.0     4.3         2990  Espana  Ribera del Duero   75.900000  Ribera Del Duero Red   NaN      NaN\n",
      "1134                            Emilio Moro                                  Malleolus  2017.0     4.3         2936  Espana  Ribera del Duero   38.050000  Ribera Del Duero Red   NaN      NaN\n",
      "1135                                   Muga                    Prado Enea Gran Reserva  2009.0     4.3         2923  Espana             Rioja   40.400000             Rioja Red   NaN      NaN\n",
      "1136                         Familia Torres            Mas La Plana Cabernet Sauvignon  2013.0     4.3         2911  Espana           Penedes   63.330000    Cabernet Sauvignon   NaN      NaN\n",
      "1137                                  Aalto                                      Tinto  2012.0     4.3         2844  Espana  Ribera del Duero   26.900000  Ribera Del Duero Red   NaN      NaN\n",
      "1138                    Hacienda Monasterio                                    Cosecha  2015.0     4.3         2783  Espana  Ribera del Duero   34.950000  Ribera Del Duero Red   NaN      NaN\n",
      "1139                 Pago de Los Capellanes                              Crianza Tinto  2018.0     4.3         2705  Espana  Ribera del Duero   24.500000  Ribera Del Duero Red   NaN      NaN\n",
      "1140                                 Pintia                                       Toro  2007.0     4.3         2575  Espana              Toro   93.500000              Toro Red   NaN      NaN\n",
      "1141                       Bodega Numanthia                                  Numanthia  2012.0     4.3         2453  Espana              Toro   99.900000              Toro Red   NaN      NaN\n",
      "1142                    R. Lopez de Heredia                      Vina Tondonia Reserva  2009.0     4.3         2423  Espana             Rioja   35.090000             Rioja Red   NaN      NaN\n",
      "1143  Benjamin de Rothschild - Vega Sicilia                              Macan Clasico  2014.0     4.3         2341  Espana             Rioja   36.800000             Rioja Red   NaN      NaN\n",
      "1144                 Pago de Los Capellanes                              Reserva Tinto  2015.0     4.3         2295  Espana  Ribera del Duero   80.350000  Ribera Del Duero Red   NaN      NaN\n",
      "1145                       Bodega Numanthia                                  Numanthia  2014.0     4.3         2241  Espana              Toro   46.000000              Toro Red   NaN      NaN\n",
      "1146  Benjamin de Rothschild - Vega Sicilia                              Macan Clasico  2015.0     4.3         2241  Espana             Rioja   50.410000             Rioja Red   NaN      NaN\n",
      "1147                                 Pintia                                       Toro  2009.0     4.3         2062  Espana              Toro  150.000000              Toro Red   NaN      NaN\n",
      "1148                                  Matsu                                   El Viejo  2016.0     4.3         2013  Espana              Toro   33.950000              Toro Red   NaN      NaN\n",
      "1149                 Pago de Los Capellanes                              Reserva Tinto  2014.0     4.3         1924  Espana  Ribera del Duero   48.637723  Ribera Del Duero Red   NaN      NaN\n",
      "1150                          Tomas Postigo             3er Ano Ribera del Duero Tinto  2016.0     4.3         1914  Espana  Ribera del Duero   27.290000  Ribera Del Duero Red   5.0      3.0\n",
      "1151                                  Aalto                                      Tinto  2016.0     4.3         1884  Espana  Ribera del Duero   65.900000  Ribera Del Duero Red   5.0      3.0\n",
      "1152                      Bodegas San Roman                                      Tinto  2015.0     4.3         1846  Espana              Toro   33.660000              Toro Red   5.0      3.0\n",
      "1153                      Bodegas San Roman                                      Tinto  2012.0     4.3         1824  Espana              Toro  190.000000              Toro Red   5.0      3.0\n",
      "1154                         Familia Torres            Mas La Plana Cabernet Sauvignon  2015.0     4.3         1797  Espana           Penedes   55.000000    Cabernet Sauvignon   4.0      3.0\n",
      "1155                      Bodegas San Roman                                      Tinto  2016.0     4.3         1749  Espana              Toro   26.900000              Toro Red   5.0      3.0\n",
      "1156                       Bodega Numanthia                                  Numanthia  2015.0     4.3         1743  Espana              Toro   36.900000              Toro Red   5.0      3.0\n",
      "1157                       Bodegas Valduero                Ribera del Duero Una Cepa I  2015.0     4.3         1645  Espana  Ribera del Duero   25.950000  Ribera Del Duero Red   5.0      3.0\n",
      "1158                 Pago de Los Capellanes                              Reserva Tinto  2016.0     4.3         1638  Espana  Ribera del Duero   34.500000  Ribera Del Duero Red   5.0      3.0\n",
      "1159                               Imperial                         Rioja Gran Reserva  2012.0     4.3         1615  Espana             Rioja   47.900000             Rioja Red   4.0      3.0\n",
      "1160                           Alto Moncayo                                   Garnacha  2014.0     4.3         1544  Espana    Campo de Borja   36.940000              Grenache   5.0      3.0\n",
      "1823                      Marques de Riscal                              Rioja Reserva  2016.0     4.2        16505  Espana             Rioja   15.900000             Rioja Red   4.0      3.0\n",
      "1824                          La Rioja Alta                       Vina Ardanza Reserva  2007.0     4.2         9098  Espana             Rioja   23.700000             Rioja Red   4.0      3.0\n",
      "1825                    Marques de Murrieta                 Reserva Rioja (Finca Ygay)  2016.0     4.2         8318  Espana             Rioja   23.000000             Rioja Red   4.0      3.0\n",
      "1826                            Emilio Moro                           Ribera del Duero  2018.0     4.2         7825  Espana  Ribera del Duero   19.500000  Ribera Del Duero Red   5.0      3.0\n",
      "1827                            Emilio Moro                           Ribera del Duero  2017.0     4.2         7294  Espana  Ribera del Duero   21.200000  Ribera Del Duero Red   5.0      3.0\n",
      "1828                         Tinto Pesquera                                    Reserva  2012.0     4.2         6567  Espana  Ribera del Duero   27.000000  Ribera Del Duero Red   5.0      3.0\n",
      "1829                          La Rioja Alta                       Vina Ardanza Reserva  2008.0     4.2         6532  Espana             Rioja   33.000000             Rioja Red   4.0      3.0\n",
      "1830                                El Coto            Coto de Imaz Rioja Gran Reserva  2012.0     4.2         6256  Espana             Rioja   16.140000             Rioja Red   4.0      3.0\n",
      "1831                      Dominio de Pingus                                        PSI  2016.0     4.2         6163  Espana  Ribera del Duero   37.950000  Ribera Del Duero Red   5.0      3.0\n",
      "1832                          La Rioja Alta                       Vina Alberdi Reserva  2015.0     4.2         5802  Espana             Rioja   17.020000             Rioja Red   4.0      3.0\n",
      "1833                        Abadia Retuerta                         Seleccion Especial  2014.0     4.2         5178  Espana   Sardon de Duero   49.850000                   Red   4.0      3.0\n",
      "1834                          Mar de Frades             Rias Baixas Albarino Atlantico  2019.0     4.2         4610  Espana       Rias Baixas   14.950000              Albarino   3.0      3.0\n",
      "1835                            Matarromera                                    Crianza  2016.0     4.2         4127  Espana  Ribera del Duero    9.760000  Ribera Del Duero Red   5.0      3.0\n",
      "1836                                Arzuaga                   Ribera del Duero Crianza  2016.0     4.2         4091  Espana  Ribera del Duero   19.160000  Ribera Del Duero Red   5.0      3.0\n",
      "1837                          La Rioja Alta                       Vina Alberdi Reserva  2016.0     4.2         3825  Espana             Rioja   15.800000             Rioja Red   4.0      3.0\n",
      "1838                               Imperial                              Rioja Reserva  2015.0     4.2         3788  Espana             Rioja   19.833333             Rioja Red   4.0      3.0\n",
      "1839                                 Protos                        27 Ribera del Duero  2016.0     4.2         3725  Espana  Ribera del Duero   21.000000  Ribera Del Duero Red   5.0      3.0\n",
      "1840                           Terras Gauda                       Terras Gauda O Rosal  2020.0     4.2         3648  Espana       Rias Baixas   12.290000              Albarino   3.0      3.0\n",
      "1841                                 Protos                        27 Ribera del Duero  2017.0     4.2         3545  Espana  Ribera del Duero   23.750000  Ribera Del Duero Red   5.0      3.0\n",
      "1842                              Remelluri                              Rioja Reserva  2012.0     4.2         3453  Espana             Rioja   15.830000             Rioja Red   4.0      3.0\n",
      "1843                                Arzuaga                   Ribera del Duero Crianza  2017.0     4.2         3354  Espana  Ribera del Duero   15.450000  Ribera Del Duero Red   5.0      3.0\n",
      "1844                         Familia Torres                                     Salmos  2016.0     4.2         3225  Espana          Priorato   24.850000           Priorat Red   4.0      3.0\n",
      "1845                 Pago de Los Capellanes                              Crianza Tinto  2017.0     4.2         3224  Espana  Ribera del Duero   20.950000  Ribera Del Duero Red   5.0      3.0\n",
      "1846                      Marques de Riscal                         Rioja Gran Reserva  2007.0     4.2         3101  Espana             Rioja   28.430000             Rioja Red   4.0      3.0\n",
      "1847                    R. Lopez de Heredia                      Vina Bosconia Reserva  2008.0     4.2         2901  Espana        Rioja Alta   22.580000             Rioja Red   4.0      3.0\n",
      "1848                          Bodegas Mauro                                        Red  2011.0     4.2         2820  Espana   Castilla y Leon   58.260000                   Red   4.0      3.0\n",
      "1849                    R. Lopez de Heredia                      Vina Bosconia Reserva  2007.0     4.2         2820  Espana        Rioja Alta   20.950000             Rioja Red   4.0      3.0\n",
      "1850                         Familia Torres            Mas La Plana Cabernet Sauvignon  2010.0     4.2         2788  Espana           Penedes   48.400000    Cabernet Sauvignon   4.0      3.0\n",
      "1851                        Rafael Palacios                              Louro Godello  2019.0     4.2         2685  Espana        Valdeorras   19.700000                   NaN   NaN      NaN\n",
      "1852                               Imperial                              Rioja Reserva  2016.0     4.2         2676  Espana             Rioja   24.750000             Rioja Red   4.0      3.0\n",
      "1853                           Bodegas Roda                         Roda Reserva Rioja  2015.0     4.2         2478  Espana             Rioja   55.470000             Rioja Red   4.0      3.0\n",
      "1854                           Bodegas Roda                         Roda Reserva Rioja  2012.0     4.2         2375  Espana             Rioja   28.400000             Rioja Red   4.0      3.0\n",
      "1855                               Imperial                              Rioja Reserva  2014.0     4.2         2364  Espana             Rioja   27.600000             Rioja Red   4.0      3.0\n",
      "1856                               Juan Gil                         Jumilla Blue Label  2015.0     4.2         2271  Espana           Jumilla   24.760000                   Red   4.0      3.0\n",
      "1857                               Juan Gil                         Jumilla Blue Label  2018.0     4.2         2234  Espana           Jumilla   24.600000                   Red   4.0      3.0\n",
      "1858                               Juan Gil                         Jumilla Blue Label  2017.0     4.2         2135  Espana           Jumilla   22.500000                   Red   4.0      3.0\n",
      "1859                       Bodegas Faustino                             I Gran Reserva  1994.0     4.2         2074  Espana             Rioja  124.500000             Rioja Red   4.0      3.0\n",
      "1860                         Carmelo Rodero                                    Crianza  2017.0     4.2         2050  Espana  Ribera del Duero   19.990000  Ribera Del Duero Red   5.0      3.0\n",
      "1861                                Atalaya                      La Atalaya del Camino  2017.0     4.2         2022  Espana           Almansa   11.800000                   Red   4.0      3.0\n",
      "1862                                 Protos                        27 Ribera del Duero  2018.0     4.2         1981  Espana  Ribera del Duero   23.740000  Ribera Del Duero Red   5.0      3.0\n",
      "1863                           Bodegas Roda                         Roda Reserva Rioja  2013.0     4.2         1931  Espana             Rioja   30.350000             Rioja Red   4.0      3.0\n",
      "1864                                 Protos                               Gran Reserva  2012.0     4.2         1921  Espana  Ribera del Duero   38.840000  Ribera Del Duero Red   5.0      3.0\n",
      "1865                              Remelluri                              Rioja Reserva  2013.0     4.2         1768  Espana             Rioja   21.500000             Rioja Red   4.0      3.0\n",
      "1866                         Tinto Pesquera                                    Reserva  2015.0     4.2         1688  Espana  Ribera del Duero   29.950000  Ribera Del Duero Red   5.0      3.0\n",
      "1867                      Marques de Riscal                      Rioja 150 Aniversario  2010.0     4.2         1686  Espana             Rioja   59.000000             Rioja Red   4.0      3.0\n",
      "1868                                 Pintia                                       Toro  2006.0     4.2         1665  Espana              Toro   98.900000              Toro Red   5.0      3.0\n",
      "1869                           Bodegas Roda                         Roda Reserva Rioja  2014.0     4.2         1645  Espana             Rioja   59.900000             Rioja Red   4.0      3.0\n",
      "1870                           Alto Moncayo                           Veraton Garnacha  2014.0     4.2         1627  Espana    Campo de Borja   19.940000              Grenache   5.0      3.0\n",
      "1871                    R. Lopez de Heredia                      Vina Bosconia Reserva  2009.0     4.2         1611  Espana        Rioja Alta   23.520000             Rioja Red   4.0      3.0\n",
      "1872                              Casa Rojo              Alexander vs. The Ham Factory  2016.0     4.2         1573  Espana  Ribera del Duero   33.373333  Ribera Del Duero Red   5.0      3.0\n"
     ]
    }
   ],
   "source": [
    "print(df.loc[calc_outliers(df.price, 0.05,0.95).index].to_string())\n",
    "print()\n",
    "print(df.loc[calc_outliers(df.year, 0.20,0.80).index].to_string())\n",
    "print()\n",
    "print(df.loc[calc_outliers(df.num_reviews, 0.20,0.80).index].to_string())"
   ]
  },
  {
   "attachments": {},
   "cell_type": "markdown",
   "metadata": {},
   "source": [
    "J'élimine les outliers importants (bouteille très très chère, très anciennes)"
   ]
  },
  {
   "cell_type": "code",
   "execution_count": 1022,
   "metadata": {},
   "outputs": [],
   "source": [
    "df = df.drop(calc_outliers(df.price, 0.05,0.95).index)\n",
    "df = df.drop(calc_outliers(df.year, 0.20,0.80).index)\n",
    "# df = df.drop(calc_outliers(df.num_reviews, 0.10,0.90).index)\n",
    "df = df.drop(['country', 'acidity'],axis=1)"
   ]
  },
  {
   "cell_type": "code",
   "execution_count": 1023,
   "metadata": {},
   "outputs": [],
   "source": [
    "# for col in df.columns:\n",
    "#     df[col].hist()\n",
    "#     plt.title(col)\n",
    "#     plt.show()\n",
    "    "
   ]
  },
  {
   "cell_type": "markdown",
   "metadata": {},
   "source": [
    "# Observation des distributions en fonctions des colonnes, choix de la target et des éventuelles features"
   ]
  },
  {
   "cell_type": "code",
   "execution_count": 1024,
   "metadata": {},
   "outputs": [
    {
     "data": {
      "text/html": [
       "<div>\n",
       "<style scoped>\n",
       "    .dataframe tbody tr th:only-of-type {\n",
       "        vertical-align: middle;\n",
       "    }\n",
       "\n",
       "    .dataframe tbody tr th {\n",
       "        vertical-align: top;\n",
       "    }\n",
       "\n",
       "    .dataframe thead th {\n",
       "        text-align: right;\n",
       "    }\n",
       "</style>\n",
       "<table border=\"1\" class=\"dataframe\">\n",
       "  <thead>\n",
       "    <tr style=\"text-align: right;\">\n",
       "      <th></th>\n",
       "      <th>winery</th>\n",
       "      <th>wine</th>\n",
       "      <th>year</th>\n",
       "      <th>rating</th>\n",
       "      <th>num_reviews</th>\n",
       "      <th>region</th>\n",
       "      <th>price</th>\n",
       "      <th>type</th>\n",
       "      <th>body</th>\n",
       "    </tr>\n",
       "  </thead>\n",
       "  <tbody>\n",
       "    <tr>\n",
       "      <th>0</th>\n",
       "      <td>0</td>\n",
       "      <td>0</td>\n",
       "      <td>2013.0</td>\n",
       "      <td>4.9</td>\n",
       "      <td>58</td>\n",
       "      <td>0</td>\n",
       "      <td>995.00</td>\n",
       "      <td>0</td>\n",
       "      <td>5.0</td>\n",
       "    </tr>\n",
       "    <tr>\n",
       "      <th>1</th>\n",
       "      <td>1</td>\n",
       "      <td>1</td>\n",
       "      <td>2018.0</td>\n",
       "      <td>4.9</td>\n",
       "      <td>31</td>\n",
       "      <td>1</td>\n",
       "      <td>313.50</td>\n",
       "      <td>1</td>\n",
       "      <td>4.0</td>\n",
       "    </tr>\n",
       "    <tr>\n",
       "      <th>2</th>\n",
       "      <td>2</td>\n",
       "      <td>2</td>\n",
       "      <td>2009.0</td>\n",
       "      <td>4.8</td>\n",
       "      <td>1793</td>\n",
       "      <td>2</td>\n",
       "      <td>324.95</td>\n",
       "      <td>2</td>\n",
       "      <td>5.0</td>\n",
       "    </tr>\n",
       "    <tr>\n",
       "      <th>3</th>\n",
       "      <td>2</td>\n",
       "      <td>2</td>\n",
       "      <td>1999.0</td>\n",
       "      <td>4.8</td>\n",
       "      <td>1705</td>\n",
       "      <td>2</td>\n",
       "      <td>692.96</td>\n",
       "      <td>2</td>\n",
       "      <td>5.0</td>\n",
       "    </tr>\n",
       "    <tr>\n",
       "      <th>4</th>\n",
       "      <td>2</td>\n",
       "      <td>2</td>\n",
       "      <td>1998.0</td>\n",
       "      <td>4.8</td>\n",
       "      <td>1209</td>\n",
       "      <td>2</td>\n",
       "      <td>490.00</td>\n",
       "      <td>2</td>\n",
       "      <td>5.0</td>\n",
       "    </tr>\n",
       "    <tr>\n",
       "      <th>...</th>\n",
       "      <td>...</td>\n",
       "      <td>...</td>\n",
       "      <td>...</td>\n",
       "      <td>...</td>\n",
       "      <td>...</td>\n",
       "      <td>...</td>\n",
       "      <td>...</td>\n",
       "      <td>...</td>\n",
       "      <td>...</td>\n",
       "    </tr>\n",
       "    <tr>\n",
       "      <th>1820</th>\n",
       "      <td>187</td>\n",
       "      <td>459</td>\n",
       "      <td>2017.0</td>\n",
       "      <td>4.2</td>\n",
       "      <td>390</td>\n",
       "      <td>43</td>\n",
       "      <td>24.45</td>\n",
       "      <td>3</td>\n",
       "      <td>4.0</td>\n",
       "    </tr>\n",
       "    <tr>\n",
       "      <th>1821</th>\n",
       "      <td>42</td>\n",
       "      <td>42</td>\n",
       "      <td>2011.0</td>\n",
       "      <td>4.2</td>\n",
       "      <td>389</td>\n",
       "      <td>2</td>\n",
       "      <td>64.50</td>\n",
       "      <td>2</td>\n",
       "      <td>5.0</td>\n",
       "    </tr>\n",
       "    <tr>\n",
       "      <th>1822</th>\n",
       "      <td>123</td>\n",
       "      <td>739</td>\n",
       "      <td>2016.0</td>\n",
       "      <td>4.2</td>\n",
       "      <td>388</td>\n",
       "      <td>2</td>\n",
       "      <td>31.63</td>\n",
       "      <td>2</td>\n",
       "      <td>5.0</td>\n",
       "    </tr>\n",
       "    <tr>\n",
       "      <th>1823</th>\n",
       "      <td>12</td>\n",
       "      <td>436</td>\n",
       "      <td>2005.0</td>\n",
       "      <td>4.2</td>\n",
       "      <td>384</td>\n",
       "      <td>5</td>\n",
       "      <td>73.00</td>\n",
       "      <td>5</td>\n",
       "      <td>4.0</td>\n",
       "    </tr>\n",
       "    <tr>\n",
       "      <th>1824</th>\n",
       "      <td>17</td>\n",
       "      <td>272</td>\n",
       "      <td>2017.0</td>\n",
       "      <td>4.2</td>\n",
       "      <td>421</td>\n",
       "      <td>5</td>\n",
       "      <td>29.15</td>\n",
       "      <td>15</td>\n",
       "      <td>NaN</td>\n",
       "    </tr>\n",
       "  </tbody>\n",
       "</table>\n",
       "<p>1825 rows × 9 columns</p>\n",
       "</div>"
      ],
      "text/plain": [
       "      winery  wine    year  rating  num_reviews  region   price  type  body\n",
       "0          0     0  2013.0     4.9           58       0  995.00     0   5.0\n",
       "1          1     1  2018.0     4.9           31       1  313.50     1   4.0\n",
       "2          2     2  2009.0     4.8         1793       2  324.95     2   5.0\n",
       "3          2     2  1999.0     4.8         1705       2  692.96     2   5.0\n",
       "4          2     2  1998.0     4.8         1209       2  490.00     2   5.0\n",
       "...      ...   ...     ...     ...          ...     ...     ...   ...   ...\n",
       "1820     187   459  2017.0     4.2          390      43   24.45     3   4.0\n",
       "1821      42    42  2011.0     4.2          389       2   64.50     2   5.0\n",
       "1822     123   739  2016.0     4.2          388       2   31.63     2   5.0\n",
       "1823      12   436  2005.0     4.2          384       5   73.00     5   4.0\n",
       "1824      17   272  2017.0     4.2          421       5   29.15    15   NaN\n",
       "\n",
       "[1825 rows x 9 columns]"
      ]
     },
     "execution_count": 1024,
     "metadata": {},
     "output_type": "execute_result"
    }
   ],
   "source": [
    "heatmap = df.reset_index(drop=True)\n",
    "cat = df.select_dtypes(object).columns.to_list()\n",
    "for i in cat:\n",
    "    heatmap[i] = df[i].factorize()[0]\n",
    "heatmap"
   ]
  },
  {
   "cell_type": "code",
   "execution_count": 1025,
   "metadata": {},
   "outputs": [],
   "source": [
    "# sns.heatmap(heatmap.corr(), annot=True, fmt='.2f')"
   ]
  },
  {
   "cell_type": "code",
   "execution_count": 1026,
   "metadata": {
    "slideshow": {
     "slide_type": "slide"
    }
   },
   "outputs": [],
   "source": [
    "# make_cat_heatmap(df,['winery','wine','region','type'])"
   ]
  },
  {
   "cell_type": "markdown",
   "metadata": {},
   "source": [
    "# Vérifications du nombres de valeurs uniques\n"
   ]
  },
  {
   "cell_type": "code",
   "execution_count": 1027,
   "metadata": {},
   "outputs": [
    {
     "name": "stdout",
     "output_type": "stream",
     "text": [
      "column 0 : winery => 438 uniques values\n",
      "column 1 : wine => 761 uniques values\n",
      "column 2 : year => 25 uniques values\n",
      "column 3 : rating => 8 uniques values\n",
      "column 4 : num_reviews => 785 uniques values\n",
      "column 5 : region => 71 uniques values\n",
      "column 6 : price => 1160 uniques values\n",
      "column 7 : type => 21 uniques values\n",
      "column 8 : body => 5 uniques values\n"
     ]
    }
   ],
   "source": [
    "# Vérifications du nombres de valeurs uniques\n",
    "view_unique_values(df, count=True)"
   ]
  },
  {
   "cell_type": "markdown",
   "metadata": {},
   "source": [
    "### Au vue des premières analyses, je décide de choisir en target (y) le 'rating' pour effectuer ma prédiction\n",
    "### Au vue des distributions, je choisis comme première feature (X), la colonne \"winery"
   ]
  },
  {
   "attachments": {},
   "cell_type": "markdown",
   "metadata": {},
   "source": [
    "## 1ère itération : Linear Regression\n",
    "- target = \"rating\"\n",
    "- feature = \"winery\""
   ]
  },
  {
   "cell_type": "code",
   "execution_count": 1028,
   "metadata": {},
   "outputs": [
    {
     "name": "stdout",
     "output_type": "stream",
     "text": [
      "score de prédiction sur le jeu de test :0.8202528324800296\n",
      "score de cross-validation : 0.7627490945172122\n"
     ]
    }
   ],
   "source": [
    "y = df[['price']]\n",
    "X = df[['winery', 'wine']]\n",
    "\n",
    "X_train, X_test, y_train, y_test = train_test_split(X,y, test_size=0.3, random_state=42)\n",
    "\n",
    "first_pred = make_mix_pipeline()\n",
    "first_pred.fit(X_train, y_train)\n",
    "first_score = first_pred.score(X_test, y_test)\n",
    "first_cv = cross_validate(first_pred, X_train, y_train, cv=5)['test_score'].mean()\n",
    "print(f\"score de prédiction sur le jeu de test :{first_score}\")\n",
    "print(f\"score de cross-validation : {first_cv}\")"
   ]
  },
  {
   "cell_type": "markdown",
   "metadata": {},
   "source": [
    "### Résultat encoureageant, je fais tester d'ajouter des features pour la 2ème itérations "
   ]
  },
  {
   "attachments": {},
   "cell_type": "markdown",
   "metadata": {},
   "source": [
    "## 2ème itération : Linear Regression\n",
    "- target = \"rating\"\n",
    "- feature = \"winery\", \"wine\""
   ]
  },
  {
   "cell_type": "code",
   "execution_count": 1029,
   "metadata": {},
   "outputs": [
    {
     "name": "stdout",
     "output_type": "stream",
     "text": [
      "score de prédiction sur le jeu de test :0.8202528324800296\n",
      "score de cross-validation : 0.7627490945172122\n"
     ]
    }
   ],
   "source": [
    "y_2 = df[['price']]\n",
    "X_2 = df[['winery','wine']]\n",
    "\n",
    "X_train_2, X_test_2, y_train_2, y_test_2 = train_test_split(X_2,y_2, test_size=0.3, random_state=42)\n",
    "\n",
    "second_pred = make_mix_pipeline()\n",
    "second_pred.fit(X_train_2, y_train_2)\n",
    "second_score = second_pred.score(X_test_2, y_test_2)\n",
    "second_cv = cross_validate(second_pred, X_train_2, y_train_2, cv=5)['test_score'].mean()\n",
    "print(f\"score de prédiction sur le jeu de test :{second_score}\")\n",
    "print(f\"score de cross-validation : {second_cv}\")"
   ]
  },
  {
   "attachments": {},
   "cell_type": "markdown",
   "metadata": {},
   "source": [
    "Il y a une amélioration du modèle, le score cross-validation est proche du score de prédiction, notre modèle est donc plutôt généralisable.  \n",
    "Je vais de cleaner les outliers sur mes features afin de voir si cela améliore le modèle.  "
   ]
  },
  {
   "cell_type": "code",
   "execution_count": 1030,
   "metadata": {},
   "outputs": [
    {
     "name": "stdout",
     "output_type": "stream",
     "text": [
      "<class 'pandas.core.frame.DataFrame'>\n",
      "Int64Index: 1825 entries, 0 to 6100\n",
      "Data columns (total 9 columns):\n",
      " #   Column       Non-Null Count  Dtype  \n",
      "---  ------       --------------  -----  \n",
      " 0   winery       1825 non-null   object \n",
      " 1   wine         1825 non-null   object \n",
      " 2   year         1825 non-null   float64\n",
      " 3   rating       1825 non-null   float64\n",
      " 4   num_reviews  1825 non-null   int64  \n",
      " 5   region       1825 non-null   object \n",
      " 6   price        1825 non-null   float64\n",
      " 7   type         1728 non-null   object \n",
      " 8   body         1570 non-null   float64\n",
      "dtypes: float64(4), int64(1), object(4)\n",
      "memory usage: 142.6+ KB\n"
     ]
    }
   ],
   "source": [
    "df.info()"
   ]
  },
  {
   "cell_type": "code",
   "execution_count": 1031,
   "metadata": {},
   "outputs": [
    {
     "name": "stdout",
     "output_type": "stream",
     "text": [
      "48.05479452054796\n",
      "761\n",
      "0.10306666666666667\n"
     ]
    }
   ],
   "source": [
    "# Je regarde la distributions des valeurs uniques sur ma features winery\n",
    "# Je m'aperçois que sur 425 valeurs possibles, les 105 valeurs qui apparaissent le plus, \n",
    "# c'est à dire au minimun 4 fois, représente 91% de la distributions\n",
    "# environ 25% des valeurs uniques de 'winery' => apparaissent 4 fois minimum => represente 91 % de la distribution. \n",
    "print(view_values_frequency(df.wine).head(116).sum())\n",
    "print(len(df.wine.value_counts()))\n",
    "\n",
    "\n",
    "most_wine_appear = df.wine.value_counts().head(90).index.tolist()\n",
    "df = df.loc[df['wine'].isin(most_wine_appear)]\n",
    "df\n",
    "print(df.shape[0]/7500)"
   ]
  },
  {
   "cell_type": "code",
   "execution_count": 1032,
   "metadata": {},
   "outputs": [
    {
     "name": "stdout",
     "output_type": "stream",
     "text": [
      "100.0\n",
      "90\n",
      "0.10306666666666667\n"
     ]
    }
   ],
   "source": [
    "# Je regarde la distributions des valeurs uniques sur ma features 'wine'\n",
    "# Je m'aperçois que sur 335 valeurs possibles, les 1 valeurs qui apparaissent le plus\n",
    "# c'est à dire au minimun 4 fois, représente 91% de la distributions\n",
    "# environ 34% des valeurs uniques de 'wine' => apparaissent 4 fois minimum => represente 93 % de la distribution.\n",
    "# Je sais egalement, qu'après avoir supprimé les valeurs nulles et ces 2 series d'outliers, il ne me restera que 0,72% des données de mon dataset de base\n",
    "print(view_values_frequency(df.wine).head(116).sum())\n",
    "print(len(df.wine.value_counts()))\n",
    "\n",
    "\n",
    "most_wine_appear = df.wine.value_counts().head(90).index.tolist()\n",
    "df = df.loc[df['wine'].isin(most_wine_appear)]\n",
    "df\n",
    "print(df.shape[0]/7500)"
   ]
  },
  {
   "attachments": {},
   "cell_type": "markdown",
   "metadata": {},
   "source": [
    "## 3ème itération : Linear Regression\n",
    "- target = \"price\"\n",
    "- feature = 'winery','wine','year','rating'"
   ]
  },
  {
   "cell_type": "code",
   "execution_count": 1033,
   "metadata": {},
   "outputs": [
    {
     "name": "stdout",
     "output_type": "stream",
     "text": [
      "score de prédiction sur le jeu de test : 0.9104178375363485\n",
      "score de cross-validation : 0.8807207688106373\n"
     ]
    }
   ],
   "source": [
    "\n",
    "y_3 = df[['price']]\n",
    "X_3 = df[['winery','wine','year','rating']]\n",
    "\n",
    "X_train_3, X_test_3, y_train_3, y_test_3 = train_test_split(X_3,y_3, test_size=0.3, random_state=42)\n",
    "\n",
    "\n",
    "third_pred = make_mix_pipeline()\n",
    "third_pred.fit(X_train_3, y_train_3)\n",
    "third_score = third_pred.score(X_test_3, y_test_3)\n",
    "third_cv = cross_validate(third_pred, X_train_3, y_train_3, cv=5)['test_score'].mean()\n",
    "print(f\"score de prédiction sur le jeu de test : {third_score}\")\n",
    "print(f\"score de cross-validation : {third_cv}\")"
   ]
  },
  {
   "attachments": {},
   "cell_type": "markdown",
   "metadata": {
    "slideshow": {
     "slide_type": "slide"
    }
   },
   "source": [
    "Après plusieurs tests supplémentaires (ajout de features), je n'obtiens pas de meilleur résultats.  \n",
    "On pourrait eventuellement tester d'autre technique d'encodage ou améliorer le cleaning du dataset"
   ]
  },
  {
   "attachments": {},
   "cell_type": "markdown",
   "metadata": {},
   "source": [
    "## 4ème itération : Ridge Regression\n",
    "- target = \"rating\"\n",
    "- feature = \"winery\", \"wine\""
   ]
  },
  {
   "attachments": {},
   "cell_type": "markdown",
   "metadata": {},
   "source": [
    "---\n",
    "# Target: Rating\n",
    "\n",
    "La deuxième target qui nous intéresse, la note attribuée au vin.  \n",
    "Après quelques tests, le scoring semble être cohérent avec les même features que pour le prix  \n",
    "Après quelques test nous décidons de conserver les premières features de bases puis dans rajouter quelques unes  "
   ]
  },
  {
   "attachments": {},
   "cell_type": "markdown",
   "metadata": {},
   "source": [
    "---\n",
    "# Target: Rating\n",
    "\n",
    "La deuxième target qui nous intéresse, la note attribuée au vin.  \n",
    "Après quelques tests, le scoring semble être cohérent avec les même features que pour le prix  \n",
    "Après quelques test nous décidons de conserver les premières features de bases puis dans rajouter quelques unes  "
   ]
  },
  {
   "attachments": {},
   "cell_type": "markdown",
   "metadata": {},
   "source": [
    "body et num_review améliorent un tout petit peu le modèle\n",
    "Je vais donc clean en amont le dataset pour l'améliorer"
   ]
  },
  {
   "attachments": {},
   "cell_type": "markdown",
   "metadata": {},
   "source": [
    "body et num_review améliorent un tout petit peu le modèle\n",
    "Je vais donc clean en amont le dataset pour l'améliorer"
   ]
  },
  {
   "cell_type": "code",
   "execution_count": 1034,
   "metadata": {},
   "outputs": [
    {
     "name": "stdout",
     "output_type": "stream",
     "text": [
      "score de prédiction sur le jeu de test : 0.6889816117598011\n",
      "score de cross-validation : 0.5951789712079482\n"
     ]
    }
   ],
   "source": [
    "y_4 = df[['rating']]\n",
    "X_4 = df[['winery','wine','year','price', 'num_reviews']]\n",
    "\n",
    "\n",
    "X_train_4, X_test_4, y_train_4, y_test_4 = train_test_split(X_4,y_4, test_size=0.3, random_state=42)\n",
    "\n",
    "\n",
    "third_pred = make_mix_pipeline(model=Ridge(alpha=0.4))\n",
    "third_pred.fit(X_train_4, y_train_4)\n",
    "third_score = third_pred.score(X_test_4, y_test_4)\n",
    "third_cv = cross_validate(third_pred, X_train_4, y_train_4, cv=5)['test_score'].mean()\n",
    "print(f\"score de prédiction sur le jeu de test : {third_score}\")\n",
    "print(f\"score de cross-validation : {third_cv}\")"
   ]
  }
 ],
 "metadata": {
  "celltoolbar": "Aucun(e)",
  "kernelspec": {
   "display_name": "Python 3",
   "language": "python",
   "name": "python3"
  },
  "language_info": {
   "codemirror_mode": {
    "name": "ipython",
    "version": 3
   },
   "file_extension": ".py",
   "mimetype": "text/x-python",
   "name": "python",
   "nbconvert_exporter": "python",
   "pygments_lexer": "ipython3",
   "version": "3.10.9"
  },
  "toc": {
   "base_numbering": 1,
   "nav_menu": {},
   "number_sections": true,
   "sideBar": true,
   "skip_h1_title": false,
   "title_cell": "Table of Contents",
   "title_sidebar": "Contents",
   "toc_cell": false,
   "toc_position": {},
   "toc_section_display": true,
   "toc_window_display": true
  },
  "vscode": {
   "interpreter": {
    "hash": "b21d6ac6766a9a9869792941c69ec68494af817f18c99840bf58a5b81e69fa2a"
   }
  }
 },
 "nbformat": 4,
 "nbformat_minor": 2
}
