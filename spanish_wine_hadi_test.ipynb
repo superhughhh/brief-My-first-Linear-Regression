{
 "cells": [
  {
   "cell_type": "markdown",
   "metadata": {},
   "source": [
    "# Test du Dataset sur les vins espagnols"
   ]
  },
  {
   "cell_type": "code",
   "execution_count": 2,
   "metadata": {},
   "outputs": [
    {
     "name": "stderr",
     "output_type": "stream",
     "text": [
      "/Users/sqallihadi/.pyenv/versions/simplon/lib/python3.8/site-packages/pandas/compat/__init__.py:124: UserWarning: Could not import the lzma module. Your installed Python is incomplete. Attempting to use lzma compression will result in a RuntimeError.\n",
      "  warnings.warn(msg)\n"
     ]
    }
   ],
   "source": [
    "import numpy as np\n",
    "import pandas as pd \n",
    "import seaborn as sns\n",
    "import matplotlib.pyplot as plt\n",
    "from sklearn.linear_model import LinearRegression\n",
    "from sklearn.model_selection import train_test_split, cross_val_score\n",
    "from sklearn.preprocessing import OneHotEncoder, MinMaxScaler, StandardScaler, LabelEncoder, RobustScaler\n",
    "from sklearn.pipeline import Pipeline, make_pipeline\n",
    "from sklearn.impute import SimpleImputer\n",
    "from sklearn.compose import ColumnTransformer, make_column_selector\n",
    "from sklearn import set_config\n",
    "set_config(display=\"diagram\")"
   ]
  },
  {
   "cell_type": "markdown",
   "metadata": {},
   "source": [
    "- import du DF\n",
    "- suppression de 'country'\n",
    "- suppression des NaN"
   ]
  },
  {
   "cell_type": "code",
   "execution_count": 3,
   "metadata": {},
   "outputs": [],
   "source": [
    "df = pd.read_csv('wines_SPA.csv')\n",
    "df.drop('country',axis=1,inplace=True)\n"
   ]
  },
  {
   "cell_type": "code",
   "execution_count": 4,
   "metadata": {},
   "outputs": [
    {
     "data": {
      "text/plain": [
       "winery         False\n",
       "wine           False\n",
       "year            True\n",
       "rating         False\n",
       "num_reviews    False\n",
       "region         False\n",
       "price          False\n",
       "type            True\n",
       "body            True\n",
       "acidity         True\n",
       "dtype: bool"
      ]
     },
     "execution_count": 4,
     "metadata": {},
     "output_type": "execute_result"
    }
   ],
   "source": [
    "df.isna().any()"
   ]
  },
  {
   "cell_type": "markdown",
   "metadata": {},
   "source": [
    "## 'Year' : 2 lignes manquantes\n",
    "## 'type','body','acidity' : 545 mêmes lignes manquantes"
   ]
  },
  {
   "cell_type": "code",
   "execution_count": 50,
   "metadata": {},
   "outputs": [],
   "source": [
    "#df[df['year'].isna()]\n",
    "#(df['type'].isna() == df['acidity'].isna()).any()\n",
    "#(df['type'].isna() == df['body'].isna()).any()"
   ]
  },
  {
   "cell_type": "markdown",
   "metadata": {},
   "source": [
    "# 1 - Preprocessing : Data cleaning"
   ]
  },
  {
   "cell_type": "markdown",
   "metadata": {},
   "source": [
    "## 1.1 - On drop les valeurs nulles (on pourra éventuellement interpoler les valeurs body/acid en moyennant, voir si ça améliore les prédictions)"
   ]
  },
  {
   "cell_type": "code",
   "execution_count": 5,
   "metadata": {},
   "outputs": [],
   "source": [
    "df.dropna(inplace=True)"
   ]
  },
  {
   "cell_type": "code",
   "execution_count": 52,
   "metadata": {},
   "outputs": [
    {
     "data": {
      "text/html": [
       "<div>\n",
       "<style scoped>\n",
       "    .dataframe tbody tr th:only-of-type {\n",
       "        vertical-align: middle;\n",
       "    }\n",
       "\n",
       "    .dataframe tbody tr th {\n",
       "        vertical-align: top;\n",
       "    }\n",
       "\n",
       "    .dataframe thead th {\n",
       "        text-align: right;\n",
       "    }\n",
       "</style>\n",
       "<table border=\"1\" class=\"dataframe\">\n",
       "  <thead>\n",
       "    <tr style=\"text-align: right;\">\n",
       "      <th></th>\n",
       "      <th>winery</th>\n",
       "      <th>wine</th>\n",
       "      <th>year</th>\n",
       "      <th>rating</th>\n",
       "      <th>num_reviews</th>\n",
       "      <th>region</th>\n",
       "      <th>price</th>\n",
       "      <th>type</th>\n",
       "      <th>body</th>\n",
       "      <th>acidity</th>\n",
       "    </tr>\n",
       "  </thead>\n",
       "  <tbody>\n",
       "    <tr>\n",
       "      <th>0</th>\n",
       "      <td>Teso La Monja</td>\n",
       "      <td>Tinto</td>\n",
       "      <td>2013</td>\n",
       "      <td>4.9</td>\n",
       "      <td>58</td>\n",
       "      <td>Toro</td>\n",
       "      <td>995.00</td>\n",
       "      <td>Toro Red</td>\n",
       "      <td>5.0</td>\n",
       "      <td>3.0</td>\n",
       "    </tr>\n",
       "    <tr>\n",
       "      <th>1</th>\n",
       "      <td>Artadi</td>\n",
       "      <td>Vina El Pison</td>\n",
       "      <td>2018</td>\n",
       "      <td>4.9</td>\n",
       "      <td>31</td>\n",
       "      <td>Vino de Espana</td>\n",
       "      <td>313.50</td>\n",
       "      <td>Tempranillo</td>\n",
       "      <td>4.0</td>\n",
       "      <td>2.0</td>\n",
       "    </tr>\n",
       "    <tr>\n",
       "      <th>2</th>\n",
       "      <td>Vega Sicilia</td>\n",
       "      <td>Unico</td>\n",
       "      <td>2009</td>\n",
       "      <td>4.8</td>\n",
       "      <td>1793</td>\n",
       "      <td>Ribera del Duero</td>\n",
       "      <td>324.95</td>\n",
       "      <td>Ribera Del Duero Red</td>\n",
       "      <td>5.0</td>\n",
       "      <td>3.0</td>\n",
       "    </tr>\n",
       "    <tr>\n",
       "      <th>3</th>\n",
       "      <td>Vega Sicilia</td>\n",
       "      <td>Unico</td>\n",
       "      <td>1999</td>\n",
       "      <td>4.8</td>\n",
       "      <td>1705</td>\n",
       "      <td>Ribera del Duero</td>\n",
       "      <td>692.96</td>\n",
       "      <td>Ribera Del Duero Red</td>\n",
       "      <td>5.0</td>\n",
       "      <td>3.0</td>\n",
       "    </tr>\n",
       "    <tr>\n",
       "      <th>4</th>\n",
       "      <td>Vega Sicilia</td>\n",
       "      <td>Unico</td>\n",
       "      <td>1996</td>\n",
       "      <td>4.8</td>\n",
       "      <td>1309</td>\n",
       "      <td>Ribera del Duero</td>\n",
       "      <td>778.06</td>\n",
       "      <td>Ribera Del Duero Red</td>\n",
       "      <td>5.0</td>\n",
       "      <td>3.0</td>\n",
       "    </tr>\n",
       "    <tr>\n",
       "      <th>...</th>\n",
       "      <td>...</td>\n",
       "      <td>...</td>\n",
       "      <td>...</td>\n",
       "      <td>...</td>\n",
       "      <td>...</td>\n",
       "      <td>...</td>\n",
       "      <td>...</td>\n",
       "      <td>...</td>\n",
       "      <td>...</td>\n",
       "      <td>...</td>\n",
       "    </tr>\n",
       "    <tr>\n",
       "      <th>7495</th>\n",
       "      <td>Contino</td>\n",
       "      <td>Reserva</td>\n",
       "      <td>2016</td>\n",
       "      <td>4.2</td>\n",
       "      <td>392</td>\n",
       "      <td>Rioja</td>\n",
       "      <td>19.98</td>\n",
       "      <td>Rioja Red</td>\n",
       "      <td>4.0</td>\n",
       "      <td>3.0</td>\n",
       "    </tr>\n",
       "    <tr>\n",
       "      <th>7496</th>\n",
       "      <td>Conreria d'Scala Dei</td>\n",
       "      <td>Les Brugueres</td>\n",
       "      <td>2018</td>\n",
       "      <td>4.2</td>\n",
       "      <td>390</td>\n",
       "      <td>Priorato</td>\n",
       "      <td>16.76</td>\n",
       "      <td>Priorat Red</td>\n",
       "      <td>4.0</td>\n",
       "      <td>3.0</td>\n",
       "    </tr>\n",
       "    <tr>\n",
       "      <th>7497</th>\n",
       "      <td>Mustiguillo</td>\n",
       "      <td>Finca Terrerazo</td>\n",
       "      <td>2017</td>\n",
       "      <td>4.2</td>\n",
       "      <td>390</td>\n",
       "      <td>El Terrerazo</td>\n",
       "      <td>24.45</td>\n",
       "      <td>Red</td>\n",
       "      <td>4.0</td>\n",
       "      <td>3.0</td>\n",
       "    </tr>\n",
       "    <tr>\n",
       "      <th>7498</th>\n",
       "      <td>Matarromera</td>\n",
       "      <td>Gran Reserva</td>\n",
       "      <td>2011</td>\n",
       "      <td>4.2</td>\n",
       "      <td>389</td>\n",
       "      <td>Ribera del Duero</td>\n",
       "      <td>64.50</td>\n",
       "      <td>Ribera Del Duero Red</td>\n",
       "      <td>5.0</td>\n",
       "      <td>3.0</td>\n",
       "    </tr>\n",
       "    <tr>\n",
       "      <th>7499</th>\n",
       "      <td>Sei Solo</td>\n",
       "      <td>Preludio</td>\n",
       "      <td>2016</td>\n",
       "      <td>4.2</td>\n",
       "      <td>388</td>\n",
       "      <td>Ribera del Duero</td>\n",
       "      <td>31.63</td>\n",
       "      <td>Ribera Del Duero Red</td>\n",
       "      <td>5.0</td>\n",
       "      <td>3.0</td>\n",
       "    </tr>\n",
       "  </tbody>\n",
       "</table>\n",
       "<p>6329 rows × 10 columns</p>\n",
       "</div>"
      ],
      "text/plain": [
       "                    winery             wine  year  rating  num_reviews  \\\n",
       "0            Teso La Monja            Tinto  2013     4.9           58   \n",
       "1                   Artadi    Vina El Pison  2018     4.9           31   \n",
       "2             Vega Sicilia            Unico  2009     4.8         1793   \n",
       "3             Vega Sicilia            Unico  1999     4.8         1705   \n",
       "4             Vega Sicilia            Unico  1996     4.8         1309   \n",
       "...                    ...              ...   ...     ...          ...   \n",
       "7495               Contino          Reserva  2016     4.2          392   \n",
       "7496  Conreria d'Scala Dei    Les Brugueres  2018     4.2          390   \n",
       "7497           Mustiguillo  Finca Terrerazo  2017     4.2          390   \n",
       "7498           Matarromera     Gran Reserva  2011     4.2          389   \n",
       "7499              Sei Solo         Preludio  2016     4.2          388   \n",
       "\n",
       "                region   price                  type  body  acidity  \n",
       "0                 Toro  995.00              Toro Red   5.0      3.0  \n",
       "1       Vino de Espana  313.50           Tempranillo   4.0      2.0  \n",
       "2     Ribera del Duero  324.95  Ribera Del Duero Red   5.0      3.0  \n",
       "3     Ribera del Duero  692.96  Ribera Del Duero Red   5.0      3.0  \n",
       "4     Ribera del Duero  778.06  Ribera Del Duero Red   5.0      3.0  \n",
       "...                ...     ...                   ...   ...      ...  \n",
       "7495             Rioja   19.98             Rioja Red   4.0      3.0  \n",
       "7496          Priorato   16.76           Priorat Red   4.0      3.0  \n",
       "7497      El Terrerazo   24.45                   Red   4.0      3.0  \n",
       "7498  Ribera del Duero   64.50  Ribera Del Duero Red   5.0      3.0  \n",
       "7499  Ribera del Duero   31.63  Ribera Del Duero Red   5.0      3.0  \n",
       "\n",
       "[6329 rows x 10 columns]"
      ]
     },
     "execution_count": 52,
     "metadata": {},
     "output_type": "execute_result"
    }
   ],
   "source": [
    "df"
   ]
  },
  {
   "cell_type": "code",
   "execution_count": 53,
   "metadata": {},
   "outputs": [
    {
     "data": {
      "text/plain": [
       "array(['Toro Red', 'Tempranillo', 'Ribera Del Duero Red', 'Pedro Ximenez',\n",
       "       'Red', 'Sherry', 'Priorat Red', 'Rioja Red', 'Rioja White',\n",
       "       'Grenache', 'Cava', 'Verdejo', 'Syrah', 'Monastrell', 'Mencia',\n",
       "       'Sparkling', 'Montsant Red', 'Albarino', 'Chardonnay',\n",
       "       'Cabernet Sauvignon', 'Sauvignon Blanc'], dtype=object)"
      ]
     },
     "execution_count": 53,
     "metadata": {},
     "output_type": "execute_result"
    }
   ],
   "source": [
    "df.type.unique()"
   ]
  },
  {
   "cell_type": "code",
   "execution_count": 54,
   "metadata": {},
   "outputs": [
    {
     "name": "stdout",
     "output_type": "stream",
     "text": [
      "nombre de producteurs différents : 425\n",
      "nombre de vins différents : 738\n",
      "types de vins différents : 21\n",
      "nombre de régions différentes : 66\n"
     ]
    }
   ],
   "source": [
    "print('nombre de producteurs différents :',df.winery.nunique())\n",
    "print('nombre de vins différents :',df.wine.nunique())\n",
    "print('types de vins différents :',df.type.nunique())\n",
    "print('nombre de régions différentes :',df.region.nunique())"
   ]
  },
  {
   "cell_type": "markdown",
   "metadata": {},
   "source": [
    "### Quantité de vins du Dataset en fonction du nom des régions : (15 premiers)"
   ]
  },
  {
   "cell_type": "code",
   "execution_count": 55,
   "metadata": {},
   "outputs": [
    {
     "data": {
      "image/png": "[encoded data removed]",
      "text/plain": [
       "<Figure size 432x288 with 1 Axes>"
      ]
     },
     "metadata": {
      "needs_background": "light"
     },
     "output_type": "display_data"
    }
   ],
   "source": [
    "plt.bar(df.region.value_counts().index[:15],df.region.value_counts().tolist()[:15])\n",
    "plt.xticks(rotation=45)\n",
    "plt.show()"
   ]
  },
  {
   "cell_type": "markdown",
   "metadata": {},
   "source": [
    "## 1.2 - réduction feature 'region'  de 21 à 10"
   ]
  },
  {
   "cell_type": "markdown",
   "metadata": {},
   "source": [
    "### Au delà des 10 régions les + productrices, la quantité de vins recensés diminue. On peut décider de ***réduire** les régions ***aux 10 premières**** (les plus productrices de vins) + on regroupe dans 'Other_region' toutes les autres"
   ]
  },
  {
   "cell_type": "code",
   "execution_count": 56,
   "metadata": {},
   "outputs": [],
   "source": [
    "top10regions = df.region.value_counts().index[:10]\n",
    "\n",
    "df['region'] = df['region'].apply(lambda x: x if x in top10regions else 'Other_region')"
   ]
  },
  {
   "cell_type": "markdown",
   "metadata": {},
   "source": [
    "## 1.3 - Suppression colonnes 'wine' et 'winery' : trop de valeurs uniques"
   ]
  },
  {
   "cell_type": "code",
   "execution_count": 57,
   "metadata": {},
   "outputs": [
    {
     "data": {
      "text/plain": [
       "259"
      ]
     },
     "execution_count": 57,
     "metadata": {},
     "output_type": "execute_result"
    }
   ],
   "source": [
    "len(df[df['year']=='N.V.']) # nombre de 'N.V.' pour les années -> s'en débarrasser"
   ]
  },
  {
   "cell_type": "markdown",
   "metadata": {},
   "source": [
    "## 1.4 - Suppression valeurs inutiles d'années : on drop les valeurs 'N.V'"
   ]
  },
  {
   "cell_type": "code",
   "execution_count": 58,
   "metadata": {},
   "outputs": [],
   "source": [
    "df.drop(df[df['year']=='N.V.'].index, inplace=True)"
   ]
  },
  {
   "cell_type": "markdown",
   "metadata": {},
   "source": [
    "## 1.5 - Reformattage colonne 'year' en integer"
   ]
  },
  {
   "cell_type": "code",
   "execution_count": 59,
   "metadata": {},
   "outputs": [],
   "source": [
    "df['year'] = df['year'].astype('int16')"
   ]
  },
  {
   "cell_type": "markdown",
   "metadata": {},
   "source": [
    "## 1.6 (facultatif) On remplace les 66 régions par des valeurs numériques (pour checker sur la heatmap)"
   ]
  },
  {
   "cell_type": "code",
   "execution_count": 60,
   "metadata": {},
   "outputs": [],
   "source": [
    "#df['region_encoded'] = df['region'].apply(lambda x: [i for i,j in enumerate(df['region'].unique()) if j==x][0])"
   ]
  },
  {
   "cell_type": "code",
   "execution_count": 61,
   "metadata": {},
   "outputs": [],
   "source": [
    "#df['region_encoded'].tolist() == LabelEncoder().fit_transform(df['region']).tolist()"
   ]
  },
  {
   "cell_type": "markdown",
   "metadata": {},
   "source": [
    "### Le 'LabelEncoder' fait automatiquement le taffe pour encoder les régions"
   ]
  },
  {
   "cell_type": "code",
   "execution_count": 62,
   "metadata": {},
   "outputs": [
    {
     "data": {
      "text/plain": [
       "array([ 9, 10,  7, ...,  4,  7,  7])"
      ]
     },
     "execution_count": 62,
     "metadata": {},
     "output_type": "execute_result"
    }
   ],
   "source": [
    "LabelEncoder().fit_transform(df['region']) "
   ]
  },
  {
   "cell_type": "code",
   "execution_count": 63,
   "metadata": {},
   "outputs": [
    {
     "data": {
      "text/html": [
       "<div>\n",
       "<style scoped>\n",
       "    .dataframe tbody tr th:only-of-type {\n",
       "        vertical-align: middle;\n",
       "    }\n",
       "\n",
       "    .dataframe tbody tr th {\n",
       "        vertical-align: top;\n",
       "    }\n",
       "\n",
       "    .dataframe thead th {\n",
       "        text-align: right;\n",
       "    }\n",
       "</style>\n",
       "<table border=\"1\" class=\"dataframe\">\n",
       "  <thead>\n",
       "    <tr style=\"text-align: right;\">\n",
       "      <th></th>\n",
       "      <th>winery</th>\n",
       "      <th>wine</th>\n",
       "      <th>year</th>\n",
       "      <th>rating</th>\n",
       "      <th>num_reviews</th>\n",
       "      <th>region</th>\n",
       "      <th>price</th>\n",
       "      <th>type</th>\n",
       "      <th>body</th>\n",
       "      <th>acidity</th>\n",
       "    </tr>\n",
       "  </thead>\n",
       "  <tbody>\n",
       "    <tr>\n",
       "      <th>0</th>\n",
       "      <td>Teso La Monja</td>\n",
       "      <td>Tinto</td>\n",
       "      <td>2013</td>\n",
       "      <td>4.9</td>\n",
       "      <td>58</td>\n",
       "      <td>Toro</td>\n",
       "      <td>995.00</td>\n",
       "      <td>Toro Red</td>\n",
       "      <td>5.0</td>\n",
       "      <td>3.0</td>\n",
       "    </tr>\n",
       "    <tr>\n",
       "      <th>1</th>\n",
       "      <td>Artadi</td>\n",
       "      <td>Vina El Pison</td>\n",
       "      <td>2018</td>\n",
       "      <td>4.9</td>\n",
       "      <td>31</td>\n",
       "      <td>Vino de Espana</td>\n",
       "      <td>313.50</td>\n",
       "      <td>Tempranillo</td>\n",
       "      <td>4.0</td>\n",
       "      <td>2.0</td>\n",
       "    </tr>\n",
       "    <tr>\n",
       "      <th>2</th>\n",
       "      <td>Vega Sicilia</td>\n",
       "      <td>Unico</td>\n",
       "      <td>2009</td>\n",
       "      <td>4.8</td>\n",
       "      <td>1793</td>\n",
       "      <td>Ribera del Duero</td>\n",
       "      <td>324.95</td>\n",
       "      <td>Ribera Del Duero Red</td>\n",
       "      <td>5.0</td>\n",
       "      <td>3.0</td>\n",
       "    </tr>\n",
       "    <tr>\n",
       "      <th>3</th>\n",
       "      <td>Vega Sicilia</td>\n",
       "      <td>Unico</td>\n",
       "      <td>1999</td>\n",
       "      <td>4.8</td>\n",
       "      <td>1705</td>\n",
       "      <td>Ribera del Duero</td>\n",
       "      <td>692.96</td>\n",
       "      <td>Ribera Del Duero Red</td>\n",
       "      <td>5.0</td>\n",
       "      <td>3.0</td>\n",
       "    </tr>\n",
       "    <tr>\n",
       "      <th>4</th>\n",
       "      <td>Vega Sicilia</td>\n",
       "      <td>Unico</td>\n",
       "      <td>1996</td>\n",
       "      <td>4.8</td>\n",
       "      <td>1309</td>\n",
       "      <td>Ribera del Duero</td>\n",
       "      <td>778.06</td>\n",
       "      <td>Ribera Del Duero Red</td>\n",
       "      <td>5.0</td>\n",
       "      <td>3.0</td>\n",
       "    </tr>\n",
       "  </tbody>\n",
       "</table>\n",
       "</div>"
      ],
      "text/plain": [
       "          winery           wine  year  rating  num_reviews            region  \\\n",
       "0  Teso La Monja          Tinto  2013     4.9           58              Toro   \n",
       "1         Artadi  Vina El Pison  2018     4.9           31    Vino de Espana   \n",
       "2   Vega Sicilia          Unico  2009     4.8         1793  Ribera del Duero   \n",
       "3   Vega Sicilia          Unico  1999     4.8         1705  Ribera del Duero   \n",
       "4   Vega Sicilia          Unico  1996     4.8         1309  Ribera del Duero   \n",
       "\n",
       "    price                  type  body  acidity  \n",
       "0  995.00              Toro Red   5.0      3.0  \n",
       "1  313.50           Tempranillo   4.0      2.0  \n",
       "2  324.95  Ribera Del Duero Red   5.0      3.0  \n",
       "3  692.96  Ribera Del Duero Red   5.0      3.0  \n",
       "4  778.06  Ribera Del Duero Red   5.0      3.0  "
      ]
     },
     "execution_count": 63,
     "metadata": {},
     "output_type": "execute_result"
    }
   ],
   "source": [
    "df.head()"
   ]
  },
  {
   "cell_type": "markdown",
   "metadata": {},
   "source": [
    "## 1.7 - Affichage de certaines features"
   ]
  },
  {
   "cell_type": "markdown",
   "metadata": {},
   "source": [
    "### 1.7.1 - scatterplot prix/années, scatterplot prix/ratings"
   ]
  },
  {
   "cell_type": "code",
   "execution_count": 64,
   "metadata": {},
   "outputs": [
    {
     "data": {
      "image/png": "[encoded data removed]",
      "text/plain": [
       "<Figure size 1080x576 with 4 Axes>"
      ]
     },
     "metadata": {
      "needs_background": "light"
     },
     "output_type": "display_data"
    }
   ],
   "source": [
    "#fig, axs = plt.subplots(2,2, figsize=(15,8),sharex='col')\n",
    "fig = plt.figure(figsize=(15,8))\n",
    "ax1 = plt.subplot(221)\n",
    "ax1.scatter(df.year, df.price)\n",
    "ax1.set_title('années des vins en fonction du prix')\n",
    "ax2 = plt.subplot(222)\n",
    "ax2.scatter(df.rating, df.price)\n",
    "ax2.set_title('notes en fonction du prix')\n",
    "ax3 = plt.subplot(223)\n",
    "ax3.set_visible(False)\n",
    "ax4 = plt.subplot(224,sharex=ax2) #sharex ne veut pas marcher....!!!!!\n",
    "ax4.scatter(df[df['price']<2000]['rating'],df[df['price']<2000]['price'])\n",
    "ax4.set_title('notes en fonction du prix (prix <2000)')\n",
    "\n",
    "plt.show()"
   ]
  },
  {
   "cell_type": "markdown",
   "metadata": {},
   "source": [
    "### 1.7.2 - Pairplot"
   ]
  },
  {
   "cell_type": "code",
   "execution_count": 20,
   "metadata": {},
   "outputs": [
    {
     "data": {
      "image/png": "[encoded data removed]",
      "text/plain": [
       "<Figure size 1080x1080 with 27 Axes>"
      ]
     },
     "metadata": {
      "needs_background": "light"
     },
     "output_type": "display_data"
    }
   ],
   "source": [
    "sns.pairplot(df.drop(['region','type'],axis=1),diag_kind='kde', corner=True) #corner=True : évite l'affichage de la partie symétrique\n",
    "plt.show()"
   ]
  },
  {
   "cell_type": "markdown",
   "metadata": {},
   "source": [
    "### Quelques analyses après visualisation pairplot"
   ]
  },
  {
   "cell_type": "markdown",
   "metadata": {},
   "source": [
    "### *Les features \"acidity\" et \"body\" peuvent être vues comme des valeurs catégorielles : elles sont discrètes et prennent respectivement 3 et 4 valeurs*"
   ]
  },
  {
   "cell_type": "code",
   "execution_count": 29,
   "metadata": {},
   "outputs": [
    {
     "data": {
      "image/png": "[encoded data removed]",
      "text/plain": [
       "<Figure size 1080x360 with 2 Axes>"
      ]
     },
     "metadata": {
      "needs_background": "light"
     },
     "output_type": "display_data"
    }
   ],
   "source": [
    "# je veux voir par tranche de prix combien de vins sont recensés:\n",
    "fig, (ax1,ax2) = plt.subplots(1,2,figsize=(15,5))\n",
    "ax1.hist(df.price, bins=50)\n",
    "ax1.set_xlabel('prix du vin')\n",
    "ax1.set_ylabel('nbre de vins recensés')\n",
    "ax1.set_title(f\"Nombre de vins par tranche de prix [{round(min(df.price))}-{round(max(df.price))}]\",fontsize=12)\n",
    "ax1.annotate(f'{round(df.price[df.price<200].count()/len(df.price)*100,1)}% des vins situés entre 0 et 200',\n",
    "             xy=(1300, 3000),fontsize=12,ha='center')\n",
    "ax1.annotate(f'{round(df.price[df.price<500].count()/len(df.price)*100,1)}% des vins situés entre 0 et 500',\n",
    "             xy=(1400, 2500),fontsize=12,ha='center')\n",
    "ax2.hist(df.price[df.price<200],bins=20)\n",
    "ax2.set_xlabel('prix du vin')\n",
    "ax2.set_title(f\"Nombre de vins sur la tranche de prix :[0-200]\",fontsize=12)\n",
    "\n",
    "plt.show()"
   ]
  },
  {
   "cell_type": "markdown",
   "metadata": {},
   "source": [
    "## Prix/Ratings distribués selon une loi de Poisson ? Exponentielle ? Fisher ?"
   ]
  },
  {
   "cell_type": "code",
   "execution_count": 11,
   "metadata": {},
   "outputs": [
    {
     "name": "stdout",
     "output_type": "stream",
     "text": [
      "8.929676817597676\n",
      "8.931793830217902\n"
     ]
    }
   ],
   "source": [
    "from scipy.stats import skew\n",
    "print(skew(df.price))\n",
    "print(df.price.skew())"
   ]
  },
  {
   "cell_type": "code",
   "execution_count": 28,
   "metadata": {},
   "outputs": [
    {
     "data": {
      "image/png": "[encoded data removed]",
      "text/plain": [
       "<Figure size 1008x864 with 4 Axes>"
      ]
     },
     "metadata": {
      "needs_background": "light"
     },
     "output_type": "display_data"
    }
   ],
   "source": [
    "_, axs = plt.subplots(2,2,figsize=(14,12))\n",
    "axs[0,0].hist(df.price)\n",
    "axs[0,0].set(title=f\"Distribution des prix des vins\\nskewness={round(df.price.skew(),1)}\",\n",
    "        xlabel=\"prix des vins\")\n",
    "axs[0,1].hist(np.log(df.price))\n",
    "axs[0,1].set(title=f\"Distribution de log(prix des vins)\\nskewness={round(np.log(df.price).skew(),1)}\",\n",
    "        xlabel=\"log(prix des vins)\")\n",
    "\n",
    "axs[1,0].hist(df.rating)\n",
    "axs[1,0].set(title=f\"Distribution des ratings des vins\\nskewness={round(df.rating.skew(),1)}\",\n",
    "        xlabel=\"prix des vins\")\n",
    "axs[1,1].hist(np.log(df.rating))\n",
    "axs[1,1].set(title=f\"Distribution de log(rating des vins)\\nskewness={round(np.log(df.rating).skew(),1)}\",\n",
    "        xlabel=\"log(prix des vins)\")\n",
    "plt.show()"
   ]
  },
  {
   "cell_type": "code",
   "execution_count": null,
   "metadata": {},
   "outputs": [],
   "source": []
  },
  {
   "cell_type": "markdown",
   "metadata": {},
   "source": []
  },
  {
   "cell_type": "markdown",
   "metadata": {},
   "source": [
    "## 1.8 - Heatmap "
   ]
  },
  {
   "cell_type": "markdown",
   "metadata": {},
   "source": [
    "### Heatmap de la matrice de corrélation avec toutes les features numériques:\n",
    "### Heatmap de la matrice de corrélation en retirant la feature 'price' pour mieux comprendre le reste des corrélations possibles"
   ]
  },
  {
   "cell_type": "code",
   "execution_count": 66,
   "metadata": {},
   "outputs": [
    {
     "data": {
      "image/png": "[encoded data removed]",
      "text/plain": [
       "<Figure size 720x432 with 2 Axes>"
      ]
     },
     "metadata": {
      "needs_background": "light"
     },
     "output_type": "display_data"
    }
   ],
   "source": [
    "plt.figure(figsize=(10,6))\n",
    "sns.heatmap(df.corr(),cmap='viridis', mask=np.triu(df.corr()),annot_kws={\"fontsize\":12},annot=True)\n",
    "plt.show()"
   ]
  },
  {
   "cell_type": "code",
   "execution_count": 68,
   "metadata": {},
   "outputs": [
    {
     "data": {
      "image/png": "[encoded data removed]",
      "text/plain": [
       "<Figure size 432x288 with 2 Axes>"
      ]
     },
     "metadata": {
      "needs_background": "light"
     },
     "output_type": "display_data"
    }
   ],
   "source": [
    "sns.heatmap(df.drop('price',axis=1).corr(),cmap='viridis',mask=np.triu(df.drop('price',axis=1).corr()))\n",
    "plt.show()"
   ]
  },
  {
   "cell_type": "markdown",
   "metadata": {},
   "source": [
    "## 1.9 - et si je prenait la version filtrée du df en dégageant les lignes avec prix>500 ?"
   ]
  },
  {
   "cell_type": "code",
   "execution_count": 69,
   "metadata": {},
   "outputs": [
    {
     "data": {
      "text/html": [
       "<div>\n",
       "<style scoped>\n",
       "    .dataframe tbody tr th:only-of-type {\n",
       "        vertical-align: middle;\n",
       "    }\n",
       "\n",
       "    .dataframe tbody tr th {\n",
       "        vertical-align: top;\n",
       "    }\n",
       "\n",
       "    .dataframe thead th {\n",
       "        text-align: right;\n",
       "    }\n",
       "</style>\n",
       "<table border=\"1\" class=\"dataframe\">\n",
       "  <thead>\n",
       "    <tr style=\"text-align: right;\">\n",
       "      <th></th>\n",
       "      <th>winery</th>\n",
       "      <th>wine</th>\n",
       "      <th>year</th>\n",
       "      <th>rating</th>\n",
       "      <th>num_reviews</th>\n",
       "      <th>region</th>\n",
       "      <th>price</th>\n",
       "      <th>type</th>\n",
       "      <th>body</th>\n",
       "      <th>acidity</th>\n",
       "    </tr>\n",
       "  </thead>\n",
       "  <tbody>\n",
       "    <tr>\n",
       "      <th>0</th>\n",
       "      <td>Teso La Monja</td>\n",
       "      <td>Tinto</td>\n",
       "      <td>2013</td>\n",
       "      <td>4.9</td>\n",
       "      <td>58</td>\n",
       "      <td>Toro</td>\n",
       "      <td>995.00</td>\n",
       "      <td>Toro Red</td>\n",
       "      <td>5.0</td>\n",
       "      <td>3.0</td>\n",
       "    </tr>\n",
       "    <tr>\n",
       "      <th>1</th>\n",
       "      <td>Artadi</td>\n",
       "      <td>Vina El Pison</td>\n",
       "      <td>2018</td>\n",
       "      <td>4.9</td>\n",
       "      <td>31</td>\n",
       "      <td>Vino de Espana</td>\n",
       "      <td>313.50</td>\n",
       "      <td>Tempranillo</td>\n",
       "      <td>4.0</td>\n",
       "      <td>2.0</td>\n",
       "    </tr>\n",
       "    <tr>\n",
       "      <th>2</th>\n",
       "      <td>Vega Sicilia</td>\n",
       "      <td>Unico</td>\n",
       "      <td>2009</td>\n",
       "      <td>4.8</td>\n",
       "      <td>1793</td>\n",
       "      <td>Ribera del Duero</td>\n",
       "      <td>324.95</td>\n",
       "      <td>Ribera Del Duero Red</td>\n",
       "      <td>5.0</td>\n",
       "      <td>3.0</td>\n",
       "    </tr>\n",
       "    <tr>\n",
       "      <th>3</th>\n",
       "      <td>Vega Sicilia</td>\n",
       "      <td>Unico</td>\n",
       "      <td>1999</td>\n",
       "      <td>4.8</td>\n",
       "      <td>1705</td>\n",
       "      <td>Ribera del Duero</td>\n",
       "      <td>692.96</td>\n",
       "      <td>Ribera Del Duero Red</td>\n",
       "      <td>5.0</td>\n",
       "      <td>3.0</td>\n",
       "    </tr>\n",
       "    <tr>\n",
       "      <th>4</th>\n",
       "      <td>Vega Sicilia</td>\n",
       "      <td>Unico</td>\n",
       "      <td>1996</td>\n",
       "      <td>4.8</td>\n",
       "      <td>1309</td>\n",
       "      <td>Ribera del Duero</td>\n",
       "      <td>778.06</td>\n",
       "      <td>Ribera Del Duero Red</td>\n",
       "      <td>5.0</td>\n",
       "      <td>3.0</td>\n",
       "    </tr>\n",
       "  </tbody>\n",
       "</table>\n",
       "</div>"
      ],
      "text/plain": [
       "          winery           wine  year  rating  num_reviews            region  \\\n",
       "0  Teso La Monja          Tinto  2013     4.9           58              Toro   \n",
       "1         Artadi  Vina El Pison  2018     4.9           31    Vino de Espana   \n",
       "2   Vega Sicilia          Unico  2009     4.8         1793  Ribera del Duero   \n",
       "3   Vega Sicilia          Unico  1999     4.8         1705  Ribera del Duero   \n",
       "4   Vega Sicilia          Unico  1996     4.8         1309  Ribera del Duero   \n",
       "\n",
       "    price                  type  body  acidity  \n",
       "0  995.00              Toro Red   5.0      3.0  \n",
       "1  313.50           Tempranillo   4.0      2.0  \n",
       "2  324.95  Ribera Del Duero Red   5.0      3.0  \n",
       "3  692.96  Ribera Del Duero Red   5.0      3.0  \n",
       "4  778.06  Ribera Del Duero Red   5.0      3.0  "
      ]
     },
     "execution_count": 69,
     "metadata": {},
     "output_type": "execute_result"
    }
   ],
   "source": [
    "df_500 = df[df.price<500]\n",
    "df.head()"
   ]
  },
  {
   "cell_type": "code",
   "execution_count": 70,
   "metadata": {},
   "outputs": [
    {
     "name": "stdout",
     "output_type": "stream",
     "text": [
      "5959 6070\n"
     ]
    }
   ],
   "source": [
    "print(len(df_500), len(df))"
   ]
  },
  {
   "cell_type": "code",
   "execution_count": 1,
   "metadata": {},
   "outputs": [
    {
     "ename": "NameError",
     "evalue": "name 'df' is not defined",
     "output_type": "error",
     "traceback": [
      "\u001b[0;31m---------------------------------------------------------------------------\u001b[0m",
      "\u001b[0;31mNameError\u001b[0m                                 Traceback (most recent call last)",
      "\u001b[0;32m/var/folders/99/7zwt_pz57n96z_6ygkrh50080000gn/T/ipykernel_14666/3289350417.py\u001b[0m in \u001b[0;36m<module>\u001b[0;34m\u001b[0m\n\u001b[0;32m----> 1\u001b[0;31m \u001b[0mdf\u001b[0m\u001b[0;34m.\u001b[0m\u001b[0mcolumns\u001b[0m\u001b[0;34m\u001b[0m\u001b[0;34m\u001b[0m\u001b[0m\n\u001b[0m",
      "\u001b[0;31mNameError\u001b[0m: name 'df' is not defined"
     ]
    }
   ],
   "source": [
    "df.columns"
   ]
  },
  {
   "cell_type": "code",
   "execution_count": 26,
   "metadata": {},
   "outputs": [
    {
     "data": {
      "image/png": "[encoded data removed]",
      "text/plain": [
       "<Figure size 720x432 with 2 Axes>"
      ]
     },
     "metadata": {
      "needs_background": "light"
     },
     "output_type": "display_data"
    }
   ],
   "source": [
    "plt.figure(figsize=(10,6))\n",
    "sns.heatmap(df_500.corr(),cmap='viridis', mask=np.triu(df_500.corr()),annot_kws={\"fontsize\":12},annot=True)\n",
    "plt.show()\n",
    "# on observe que la corrélation \"PRICE/RATING\" s'améliore\n"
   ]
  },
  {
   "cell_type": "markdown",
   "metadata": {},
   "source": [
    "## 2.0 - Régression linéaire simple sur (x=rating/y=price):"
   ]
  },
  {
   "cell_type": "code",
   "execution_count": 27,
   "metadata": {},
   "outputs": [
    {
     "name": "stderr",
     "output_type": "stream",
     "text": [
      "/Users/sqallihadi/.pyenv/versions/simplon/lib/python3.8/site-packages/seaborn/_decorators.py:36: FutureWarning: Pass the following variables as keyword args: x, y. From version 0.12, the only valid positional argument will be `data`, and passing other arguments without an explicit keyword will result in an error or misinterpretation.\n",
      "  warnings.warn(\n"
     ]
    },
    {
     "data": {
      "image/png": "[encoded data removed]",
      "text/plain": [
       "<Figure size 1080x360 with 2 Axes>"
      ]
     },
     "metadata": {
      "needs_background": "light"
     },
     "output_type": "display_data"
    }
   ],
   "source": [
    "fig, (ax1,ax2) = plt.subplots(1,2,figsize=(15,5))\n",
    "sns.regplot(df.rating,df.price,ax=ax1)\n",
    "ax1.set_title(\"Regplot sur tous les points: rating/price\")\n",
    "sns.regplot(df_500.rating,df_500.price,ax=ax2)\n",
    "ax2.set_title(\"Regplot sur les vins : 0 < prix < 500\")\n",
    "plt.show()"
   ]
  },
  {
   "cell_type": "code",
   "execution_count": 28,
   "metadata": {},
   "outputs": [],
   "source": [
    "a,b = np.polyfit(df_500.rating,df_500.price,deg=1)\n",
    "\n",
    "#y_pred = \n",
    "\n",
    "def calculate_r2(y_mes, y):    \n",
    "    result = 1 - (sum((y_mes - y)**2)/sum((y_mes - y_mes.mean())**2))\n",
    "    return result    "
   ]
  },
  {
   "cell_type": "markdown",
   "metadata": {},
   "source": [
    "# 2 - Création Pipeline pour modèle LR"
   ]
  },
  {
   "cell_type": "markdown",
   "metadata": {},
   "source": [
    "## 2.1 - Fonction (crédits à Hugues) pour créer un Pipeline complet automatisé de ML\n"
   ]
  },
  {
   "cell_type": "code",
   "execution_count": 71,
   "metadata": {},
   "outputs": [],
   "source": [
    "def make_mix_pipeline(scaler=MinMaxScaler(), model=LinearRegression()):\n",
    "    num_transformer = Pipeline([(f'scaler:{scaler}', scaler)])\n",
    "    cat_transformer = OneHotEncoder(handle_unknown='ignore')\n",
    "    numerical_features = make_column_selector(dtype_include = np.number)\n",
    "    cat_features = make_column_selector(dtype_exclude = np.number)\n",
    "    preprocessing_transformer = ColumnTransformer([('num columns',num_transformer, numerical_features),('cat columns',cat_transformer, cat_features)])\n",
    "    pipeline_workflow = Pipeline([('preprocessing_tranformer', preprocessing_transformer),(f'{model}', model)])\n",
    "    return pipeline_workflow"
   ]
  },
  {
   "cell_type": "code",
   "execution_count": 29,
   "metadata": {},
   "outputs": [
    {
     "data": {
      "text/plain": [
       "year             int16\n",
       "rating         float64\n",
       "num_reviews      int64\n",
       "region          object\n",
       "price          float64\n",
       "type            object\n",
       "body           float64\n",
       "acidity        float64\n",
       "dtype: object"
      ]
     },
     "execution_count": 29,
     "metadata": {},
     "output_type": "execute_result"
    }
   ],
   "source": [
    "df.dtypes"
   ]
  },
  {
   "cell_type": "code",
   "execution_count": 88,
   "metadata": {},
   "outputs": [],
   "source": [
    "y = df['price']                  # Le vecteur y (variable expliquée) correspond à la colonne 'rating'\n",
    "X = df.drop(columns=['price'])   # La matrice X (variables explicatives) correspond aux autres colonnes"
   ]
  },
  {
   "cell_type": "code",
   "execution_count": 89,
   "metadata": {},
   "outputs": [],
   "source": [
    "# La fonction train_test_split() permet de créer X_train, X_test, y_train et y_test automatiquement\n",
    "\n",
    "X_train, X_test, y_train, y_test = train_test_split(X, y, test_size=0.3) "
   ]
  },
  {
   "cell_type": "markdown",
   "metadata": {},
   "source": [
    "## 2.1.1 - Pipeline - Régression linéaire avec minmaxscaler, ohe"
   ]
  },
  {
   "cell_type": "code",
   "execution_count": 106,
   "metadata": {},
   "outputs": [
    {
     "name": "stdout",
     "output_type": "stream",
     "text": [
      "score de prédiction sur le jeu de test :0.85\n",
      "scores de cross-validation : [0.61 0.61 0.6  0.86 0.71]\n",
      "moyenne des scores de cv: 0.68\n"
     ]
    }
   ],
   "source": [
    "\n",
    "first_pred = make_mix_pipeline() #minmax, reglin\n",
    "first_pred.fit(X_train, y_train)\n",
    "first_score = first_pred.score(X_test, y_test)\n",
    "first_cv = cross_val_score(first_pred, X_train, y_train, cv=5, scoring='r2')\n",
    "print(f\"score de prédiction sur le jeu de test :{np.round(first_score,2)}\")\n",
    "print(f\"scores de cross-validation : {np.round(first_cv,2)}\")\n",
    "print(f\"moyenne des scores de cv: {np.round(first_cv.mean(),2)}\")"
   ]
  },
  {
   "cell_type": "markdown",
   "metadata": {},
   "source": [
    "### Commentaire succinct: \n",
    "La cross-validation montre que la prédiction n'est pas homogène selon les sous-groupes testés, le score affiché est très possiblement overfitté."
   ]
  },
  {
   "cell_type": "markdown",
   "metadata": {},
   "source": [
    "## 2.1.2 - En ne gardant que 'wine' et 'winery' ?"
   ]
  },
  {
   "cell_type": "code",
   "execution_count": 46,
   "metadata": {},
   "outputs": [
    {
     "data": {
      "text/plain": [
       "Index(['year', 'rating', 'num_reviews', 'region', 'price', 'type', 'body',\n",
       "       'acidity'],\n",
       "      dtype='object')"
      ]
     },
     "execution_count": 46,
     "metadata": {},
     "output_type": "execute_result"
    }
   ],
   "source": [
    "df.columns"
   ]
  },
  {
   "cell_type": "code",
   "execution_count": 86,
   "metadata": {},
   "outputs": [],
   "source": [
    "y2 = df['price']                  # Le vecteur y (variable expliquée) correspond à la colonne 'rating'\n",
    "X2 = df[['wine','winery']]   # La matrice X (variables explicatives) correspond aux autres colonnes\n",
    "\n",
    "# La fonction train_test_split() permet de créer X_train, X_test, y_train et y_test automatiquement\n",
    "\n",
    "X_train2, X_test2, y_train2, y_test2= train_test_split(X2, y2, test_size=0.3) "
   ]
  },
  {
   "cell_type": "code",
   "execution_count": 92,
   "metadata": {},
   "outputs": [
    {
     "name": "stdout",
     "output_type": "stream",
     "text": [
      "score de prédiction sur le jeu de test :0.7605836054004711\n",
      "scores de cross-validation : [0.46282812 0.57558629 0.71217939 0.7841048  0.70487048]\n",
      "moyenne des scores de cv: 0.6479138174390623\n"
     ]
    }
   ],
   "source": [
    "second_pred = make_mix_pipeline()\n",
    "second_pred.fit(X_train2,y_train2)\n",
    "second_score = second_pred.score(X_test2,y_test2)\n",
    "second_cv = cross_val_score(second_pred, X_train2, y_train2, cv=5, scoring='r2')\n",
    "\n",
    "print(f\"score de prédiction sur le jeu de test :{second_score}\")\n",
    "print(f\"scores de cross-validation : {second_cv}\")\n",
    "print(f\"moyenne des scores de cv: {second_cv.mean()}\")"
   ]
  },
  {
   "cell_type": "code",
   "execution_count": 85,
   "metadata": {},
   "outputs": [
    {
     "data": {
      "text/html": [
       "<div>\n",
       "<style scoped>\n",
       "    .dataframe tbody tr th:only-of-type {\n",
       "        vertical-align: middle;\n",
       "    }\n",
       "\n",
       "    .dataframe tbody tr th {\n",
       "        vertical-align: top;\n",
       "    }\n",
       "\n",
       "    .dataframe thead th {\n",
       "        text-align: right;\n",
       "    }\n",
       "</style>\n",
       "<table border=\"1\" class=\"dataframe\">\n",
       "  <thead>\n",
       "    <tr style=\"text-align: right;\">\n",
       "      <th></th>\n",
       "      <th>wine</th>\n",
       "      <th>winery</th>\n",
       "    </tr>\n",
       "  </thead>\n",
       "  <tbody>\n",
       "    <tr>\n",
       "      <th>3117</th>\n",
       "      <td>Valdegines</td>\n",
       "      <td>Artadi</td>\n",
       "    </tr>\n",
       "    <tr>\n",
       "      <th>4649</th>\n",
       "      <td>El Puntido</td>\n",
       "      <td>Vinedos de Paganos</td>\n",
       "    </tr>\n",
       "    <tr>\n",
       "      <th>76</th>\n",
       "      <td>La Nieta</td>\n",
       "      <td>Vinedos de Paganos</td>\n",
       "    </tr>\n",
       "    <tr>\n",
       "      <th>405</th>\n",
       "      <td>Pago de Santa Cruz</td>\n",
       "      <td>Vina Sastre</td>\n",
       "    </tr>\n",
       "    <tr>\n",
       "      <th>2202</th>\n",
       "      <td>Roc Nu</td>\n",
       "      <td>Clos Pons</td>\n",
       "    </tr>\n",
       "    <tr>\n",
       "      <th>...</th>\n",
       "      <td>...</td>\n",
       "      <td>...</td>\n",
       "    </tr>\n",
       "    <tr>\n",
       "      <th>7127</th>\n",
       "      <td>Santa Rosa</td>\n",
       "      <td>Enrique Mendoza</td>\n",
       "    </tr>\n",
       "    <tr>\n",
       "      <th>3753</th>\n",
       "      <td>Coleccion Privada</td>\n",
       "      <td>Sierra Cantabria</td>\n",
       "    </tr>\n",
       "    <tr>\n",
       "      <th>5838</th>\n",
       "      <td>Clos del Portal Somni</td>\n",
       "      <td>Portal del Priorat</td>\n",
       "    </tr>\n",
       "    <tr>\n",
       "      <th>222</th>\n",
       "      <td>Nit de Nin Mas d'en Cacador</td>\n",
       "      <td>Nin-Ortiz</td>\n",
       "    </tr>\n",
       "    <tr>\n",
       "      <th>6377</th>\n",
       "      <td>Santa Rosa</td>\n",
       "      <td>Enrique Mendoza</td>\n",
       "    </tr>\n",
       "  </tbody>\n",
       "</table>\n",
       "<p>1821 rows × 2 columns</p>\n",
       "</div>"
      ],
      "text/plain": [
       "                             wine              winery\n",
       "3117                   Valdegines              Artadi\n",
       "4649                   El Puntido  Vinedos de Paganos\n",
       "76                       La Nieta  Vinedos de Paganos\n",
       "405            Pago de Santa Cruz         Vina Sastre\n",
       "2202                       Roc Nu           Clos Pons\n",
       "...                           ...                 ...\n",
       "7127                   Santa Rosa     Enrique Mendoza\n",
       "3753            Coleccion Privada    Sierra Cantabria\n",
       "5838        Clos del Portal Somni  Portal del Priorat\n",
       "222   Nit de Nin Mas d'en Cacador           Nin-Ortiz\n",
       "6377                   Santa Rosa     Enrique Mendoza\n",
       "\n",
       "[1821 rows x 2 columns]"
      ]
     },
     "execution_count": 85,
     "metadata": {},
     "output_type": "execute_result"
    }
   ],
   "source": [
    "X_test"
   ]
  },
  {
   "cell_type": "markdown",
   "metadata": {},
   "source": [
    "## 2.3 - Quelques graphs"
   ]
  },
  {
   "cell_type": "code",
   "execution_count": 91,
   "metadata": {},
   "outputs": [
    {
     "data": {
      "image/png": "[encoded data removed]",
      "text/plain": [
       "<Figure size 1440x432 with 2 Axes>"
      ]
     },
     "metadata": {
      "needs_background": "light"
     },
     "output_type": "display_data"
    }
   ],
   "source": [
    "y_pred = first_pred.predict(X_test)\n",
    "\n",
    "fig, (ax1,ax2) = plt.subplots(1,2,figsize=(20,6),sharey=True)\n",
    "ax1.scatter(y_test,y_pred)\n",
    "ax1.set_xlabel('vraies valeurs des prix du vin', fontsize=16)\n",
    "ax1.set_ylabel('valeur prédite par le modèle LR', fontsize=16)\n",
    "ax1.set_title(\"y_vrai vs. y_pred\", fontsize=16)\n",
    "\n",
    "ax2.scatter(X_test['rating'],y_test,label='prix réels en fonction des notes')\n",
    "ax2.scatter(X_test['rating'],y_pred, label='prix prédits en fonction des notes')\n",
    "ax2.set_title(\"prix de vin (réel/prédit) en fonction des notes\", fontsize=16)\n",
    "plt.legend(loc='upper left',fontsize=10)\n",
    "plt.show()"
   ]
  },
  {
   "cell_type": "code",
   "execution_count": 113,
   "metadata": {},
   "outputs": [
    {
     "name": "stderr",
     "output_type": "stream",
     "text": [
      "/var/folders/99/7zwt_pz57n96z_6ygkrh50080000gn/T/ipykernel_885/2813943653.py:5: FutureWarning: Automatic reindexing on DataFrame vs Series comparisons is deprecated and will raise ValueError in a future version.  Do `left, right = left.align(right, axis=1, copy=False)` before e.g. `left == right`\n",
      "  trueList = ~((df < (Q1 - 1.5 * IQR)) |(df > (Q3 + 1.5 * IQR)))\n"
     ]
    },
    {
     "data": {
      "text/plain": [
       "acidity        True\n",
       "body           True\n",
       "num_reviews    True\n",
       "price          True\n",
       "rating         True\n",
       "region         True\n",
       "type           True\n",
       "wine           True\n",
       "winery         True\n",
       "year           True\n",
       "dtype: bool"
      ]
     },
     "execution_count": 113,
     "metadata": {},
     "output_type": "execute_result"
    }
   ],
   "source": [
    "def Remove_Outlier_Indices(df):\n",
    "    Q1 = df.quantile(0.25)\n",
    "    Q3 = df.quantile(0.75)\n",
    "    IQR = Q3 - Q1\n",
    "    trueList = ~((df < (Q1 - 1.5 * IQR)) |(df > (Q3 + 1.5 * IQR)))\n",
    "    return trueList\n",
    "\n",
    "Remove_Outlier_Indices(df)"
   ]
  },
  {
   "cell_type": "code",
   "execution_count": 175,
   "metadata": {},
   "outputs": [
    {
     "data": {
      "text/plain": [
       "2       1793\n",
       "3       1705\n",
       "4       1309\n",
       "5       1209\n",
       "6       1201\n",
       "        ... \n",
       "1877    1319\n",
       "1878    1308\n",
       "1879    1301\n",
       "1880    1267\n",
       "1881    1209\n",
       "Name: num_reviews, Length: 184, dtype: int64"
      ]
     },
     "execution_count": 175,
     "metadata": {},
     "output_type": "execute_result"
    }
   ],
   "source": [
    "df.drop_duplicates()[df.drop_duplicates()['num_reviews']> q3+1.5*iqr]['num_reviews']"
   ]
  },
  {
   "cell_type": "code",
   "execution_count": 190,
   "metadata": {},
   "outputs": [
    {
     "data": {
      "text/plain": [
       "<AxesSubplot: xlabel='price'>"
      ]
     },
     "execution_count": 190,
     "metadata": {},
     "output_type": "execute_result"
    },
    {
     "data": {
      "image/png": "[encoded data removed]",
      "text/plain": [
       "<Figure size 432x288 with 1 Axes>"
      ]
     },
     "metadata": {
      "needs_background": "light"
     },
     "output_type": "display_data"
    }
   ],
   "source": [
    "sns.boxplot(data=df.drop_duplicates(),x='price')\n"
   ]
  },
  {
   "cell_type": "code",
   "execution_count": null,
   "metadata": {},
   "outputs": [],
   "source": [
    "df.price.hist()\n"
   ]
  },
  {
   "cell_type": "code",
   "execution_count": 194,
   "metadata": {},
   "outputs": [
    {
     "data": {
      "text/plain": [
       "0         58\n",
       "1         31\n",
       "2       1793\n",
       "3       1705\n",
       "4       1309\n",
       "        ... \n",
       "2045     390\n",
       "2046     390\n",
       "2047     389\n",
       "2048     388\n",
       "2049     384\n",
       "Name: num_reviews, Length: 1714, dtype: int64"
      ]
     },
     "execution_count": 194,
     "metadata": {},
     "output_type": "execute_result"
    }
   ],
   "source": [
    "df.drop_duplicates()['num_reviews']"
   ]
  },
  {
   "cell_type": "code",
   "execution_count": 199,
   "metadata": {},
   "outputs": [],
   "source": []
  },
  {
   "cell_type": "code",
   "execution_count": 6,
   "metadata": {},
   "outputs": [
    {
     "name": "stdout",
     "output_type": "stream",
     "text": [
      "q1:56.0, inf: -608.5, q3:499.0, sup: 1163.5\n",
      "number of reviews: mean: 538.023661971831, median:134.0\n"
     ]
    },
    {
     "name": "stderr",
     "output_type": "stream",
     "text": [
      "/var/folders/99/7zwt_pz57n96z_6ygkrh50080000gn/T/ipykernel_14666/1326414537.py:16: UserWarning: Boolean Series key will be reindexed to match DataFrame index.\n",
      "  axs[2].scatter(df2[~nr_o]['num_reviews'],df2[~nr_o]['price'],c='gray')\n",
      "/var/folders/99/7zwt_pz57n96z_6ygkrh50080000gn/T/ipykernel_14666/1326414537.py:17: UserWarning: Boolean Series key will be reindexed to match DataFrame index.\n",
      "  axs[2].scatter(df2[nr_o]['num_reviews'],df2[nr_o]['price'],c='r')\n",
      "/var/folders/99/7zwt_pz57n96z_6ygkrh50080000gn/T/ipykernel_14666/1326414537.py:18: UserWarning: Boolean Series key will be reindexed to match DataFrame index.\n",
      "  axs[2].scatter(df2[p_o]['num_reviews'],df2[p_o]['price'],c='r')\n"
     ]
    },
    {
     "data": {
      "image/png": "[encoded data removed]",
      "text/plain": [
       "<Figure size 1152x288 with 3 Axes>"
      ]
     },
     "metadata": {
      "needs_background": "light"
     },
     "output_type": "display_data"
    }
   ],
   "source": [
    "\n",
    "df2 = df.drop_duplicates()\n",
    "#df2['colors'] = [c for c, _ in zip(color_cycle, range(len(df2)))]\n",
    "\n",
    "q1 = df2['num_reviews'].quantile(.25)\n",
    "q3 = df2['num_reviews'].quantile(.75)\n",
    "iqr = q3-q1\n",
    "print(f\"q1:{q1}, inf: {q1-1.5*iqr}, q3:{q3}, sup: {q3+1.5*iqr}\")\n",
    "print(f\"number of reviews: mean: {df2['num_reviews'].mean()}, median:{df2['num_reviews'].median()}\")\n",
    "f, axs = plt.subplots(1,3,figsize=(16,4))\n",
    "axs[0].hist(df2[df2['num_reviews']<500]['num_reviews'],bins=50)\n",
    "axs[1].boxplot(df2['num_reviews'])\n",
    "#axs[2].boxplot(df.drop_duplicates()[df.drop_duplicates()['num_reviews']< q3+1.5*iqr]['num_reviews'])\n",
    "\n",
    "nr_o = df.num_reviews > q3+1.5*iqr\n",
    "p_o = df.price > df2.price.quantile(.75)+1.5*(df2.price.quantile(.75)-df2.price.quantile(.25))\n",
    "axs[2].scatter(df2[~nr_o]['num_reviews'],df2[~nr_o]['price'],c='gray')\n",
    "axs[2].scatter(df2[nr_o]['num_reviews'],df2[nr_o]['price'],c='r')\n",
    "axs[2].scatter(df2[p_o]['num_reviews'],df2[p_o]['price'],c='r')\n",
    "\n",
    "plt.show()\n"
   ]
  },
  {
   "cell_type": "code",
   "execution_count": 8,
   "metadata": {},
   "outputs": [
    {
     "data": {
      "text/plain": [
       "<AxesSubplot: >"
      ]
     },
     "execution_count": 8,
     "metadata": {},
     "output_type": "execute_result"
    },
    {
     "data": {
      "image/png": "[encoded data removed]",
      "text/plain": [
       "<Figure size 432x288 with 1 Axes>"
      ]
     },
     "metadata": {
      "needs_background": "light"
     },
     "output_type": "display_data"
    }
   ],
   "source": [
    "df2['price'].hist(bins=100)"
   ]
  },
  {
   "cell_type": "code",
   "execution_count": 182,
   "metadata": {},
   "outputs": [
    {
     "name": "stdout",
     "output_type": "stream",
     "text": [
      "q1:33.0, inf: -105.05624999999998, q3:125.0375, sup: 263.09375\n",
      "number of reviews: mean: 151.13690784276835, median:58.095\n"
     ]
    },
    {
     "data": {
      "image/png": "[encoded data removed]",
      "text/plain": [
       "<Figure size 1152x288 with 3 Axes>"
      ]
     },
     "metadata": {
      "needs_background": "light"
     },
     "output_type": "display_data"
    },
    {
     "data": {
      "text/plain": [
       "0"
      ]
     },
     "execution_count": 182,
     "metadata": {},
     "output_type": "execute_result"
    }
   ],
   "source": [
    "q1 = df.drop_duplicates()['price'].quantile(.25)\n",
    "q3 = df.drop_duplicates()['price'].quantile(.75)\n",
    "iqr = q3-q1\n",
    "print(f\"q1:{q1}, inf: {q1-1.5*iqr}, q3:{q3}, sup: {q3+1.5*iqr}\")\n",
    "print(f\"number of reviews: mean: {df.drop_duplicates()['price'].mean()}, median:{df.drop_duplicates()['price'].median()}\")\n",
    "f, axs = plt.subplots(1,3,figsize=(16,4))\n",
    "axs[0].hist(df.drop_duplicates()[df.drop_duplicates()['price']<500]['price'],bins=50)\n",
    "axs[1].boxplot(df.drop_duplicates()['price'])\n",
    "axs[2].boxplot(df.drop_duplicates()[df.drop_duplicates()['price']< q3+1.5*iqr]['price'])\n",
    "plt.show()\n",
    "(df.drop_duplicates()['price'] < q1-1.5*iqr).sum()"
   ]
  },
  {
   "cell_type": "code",
   "execution_count": 30,
   "metadata": {},
   "outputs": [
    {
     "name": "stdout",
     "output_type": "stream",
     "text": [
      "Collecting geolocation-python\n",
      "  Downloading geolocation-python-0.2.2.tar.gz (8.4 kB)\n",
      "  Preparing metadata (setup.py) ... \u001b[?25ldone\n",
      "\u001b[?25hRequirement already satisfied: setuptools in /Users/sqallihadi/.pyenv/versions/3.8.12/envs/simplon/lib/python3.8/site-packages (from geolocation-python) (56.0.0)\n",
      "Requirement already satisfied: requests in /Users/sqallihadi/.pyenv/versions/3.8.12/envs/simplon/lib/python3.8/site-packages (from geolocation-python) (2.27.1)\n",
      "Requirement already satisfied: certifi>=2017.4.17 in /Users/sqallihadi/.pyenv/versions/3.8.12/envs/simplon/lib/python3.8/site-packages (from requests->geolocation-python) (2021.10.8)\n",
      "Requirement already satisfied: idna<4,>=2.5 in /Users/sqallihadi/.pyenv/versions/3.8.12/envs/simplon/lib/python3.8/site-packages (from requests->geolocation-python) (3.3)\n",
      "Requirement already satisfied: urllib3<1.27,>=1.21.1 in /Users/sqallihadi/.pyenv/versions/3.8.12/envs/simplon/lib/python3.8/site-packages (from requests->geolocation-python) (1.26.7)\n",
      "Requirement already satisfied: charset-normalizer~=2.0.0 in /Users/sqallihadi/.pyenv/versions/3.8.12/envs/simplon/lib/python3.8/site-packages (from requests->geolocation-python) (2.0.10)\n",
      "Building wheels for collected packages: geolocation-python\n",
      "  Building wheel for geolocation-python (setup.py) ... \u001b[?25ldone\n",
      "\u001b[?25h  Created wheel for geolocation-python: filename=geolocation_python-0.2.2-py3-none-any.whl size=10839 sha256=a46ddc985f8aca1550280b3d8b3d7517d0dc54235b6f6e59280e00faa6158af4\n",
      "  Stored in directory: /Users/sqallihadi/Library/Caches/pip/wheels/47/9f/db/4b971302a7f7e97b8101c3670576f1670513fed8b12989fc8b\n",
      "Successfully built geolocation-python\n",
      "Installing collected packages: geolocation-python\n",
      "Successfully installed geolocation-python-0.2.2\n"
     ]
    }
   ],
   "source": [
    "!pip install geolocation-python"
   ]
  },
  {
   "cell_type": "code",
   "execution_count": 33,
   "metadata": {},
   "outputs": [],
   "source": [
    "import requests\n",
    "\n",
    "def get_coordinates(place_name):\n",
    "    \n",
    "    endpoint = \"https://nominatim.openstreetmap.org/search\"\n",
    "    params = {\n",
    "        \"q\": place_name,\n",
    "        \"format\": \"json\",\n",
    "        \"limit\": 1\n",
    "    }\n",
    "    response = requests.get(endpoint, params=params)\n",
    "    if response.status_code == 200:\n",
    "        data = response.json()\n",
    "        if len(data) > 0:\n",
    "            latitude = data[0][\"lat\"]\n",
    "            longitude = data[0][\"lon\"]\n",
    "            return (latitude, longitude)\n",
    "    return None\n",
    "\n"
   ]
  },
  {
   "cell_type": "code",
   "execution_count": 71,
   "metadata": {},
   "outputs": [
    {
     "name": "stdout",
     "output_type": "stream",
     "text": [
      "{'Toro': ('41.5216963', '-5.3939824'), 'Vino de Espana': ('42.1771554', '-8.4341104'), 'Ribera del Duero': ('41.66575665', '-3.686329463971761'), 'Montilla-Moriles': ('36.7286168', '-4.3001727'), 'Jumilla': ('38.4735408', '-1.3285417'), 'Jerez-Xeres-Sherry': ('36.65901315', '-6.155439431926194'), 'Priorato': ('44.8741121', '10.1628956'), 'Rioja': ('42.2814642', '-2.482804975070473'), 'Bierzo': ('42.65265025', '-6.62318404217132'), 'Castilla y Leon': ('41.8037172', '-4.7471726'), 'Campo de Borja': ('41.78654145', '-1.5058322706803928'), 'Cava': ('42.31658175', '1.6111496867672197'), 'Jerez Palo Cortado': ('36.6954668', '-6.1474169'), 'Manzanilla': ('37.3887479', '-6.4316237'), 'Emporda': ('42.1893929', '3.077661284375413'), 'Rioja Alta': ('42.4157318', '-2.87947386168831'), 'Somontano': ('42.0883878', '0.09940412890672314'), 'Dominio de Valdepusa': None, 'Mallorca': ('39.613432', '2.880353635614984'), 'Yecla': ('38.613652', '-1.1157373'), 'Cigales': ('41.7582863', '-4.6989785'), 'Utiel-Requena': ('39.4880777', '-1.1001643'), 'Rioja Alavesa': ('42.54415095', '-2.5454223587321856'), 'Cadiz': ('36.5297438', '-6.2928976'), 'Costers del Segre': ('41.502298249999996', '0.8273990115524253'), 'Sardon de Duero': ('41.6085193', '-4.4339323'), 'Cataluna': ('41.8523094', '1.5745043'), 'Rueda': ('41.4129785', '-4.9597533'), 'Jerez Pedro Ximenes (PX)': None, 'Montsant': ('41.1171253', '1.211005'), 'Conca de Barbera': ('41.44389565', '1.1885113323042593'), 'Rias Baixas': ('42.3533841', '-7.8778072'), 'Jerez Amontillado': ('36.6945988', '-6.1480085'), 'Navarra': ('42.61254875', '-1.830787673361753'), 'Tierra del Vino de Zamora': ('41.3601378', '-5.726771'), 'Penedes': ('33.4742351', '-117.627579'), 'Dehesa del Carrizal': ('39.8296209', '-5.1788648'), 'Madrid': ('40.4167047', '-3.7035825'), 'Carinena': ('41.3382122', '-1.2263149'), 'Alicante': ('38.3436365', '-0.4881708'), 'Almansa': ('38.8682065', '-1.0978627'), 'Valencia': ('39.4697065', '-0.3763353'), 'Sierras de Malaga': ('36.9218381', '-4.0957668'), 'El Terrerazo': ('39.6222682', '-1.2467301'), 'Jerez Oloroso': ('36.6945822', '-6.1469034'), 'Castilla': ('-15.5859786', '-72.3617354'), 'Pla de Bages': ('41.7785429', '1.8904077'), 'Pago Calzadilla': ('40.1417164', '-2.6540184'), 'Andalucia': ('37.3399964', '-4.5811614'), 'Monterrei': ('25.6802019', '-100.315258'), 'Ribera del Gallego-Cinco Villas': None, 'Aragon': ('41.3787291', '-0.7639373'), 'Binissalem-Mallorca': ('39.6002717', '2.6720865'), 'Calatayud': ('41.3527628', '-1.6422977'), 'Pla i Llevant': ('39.385214', '-0.4479828'), 'Arinzano': ('42.630781', '-1.9934938'), 'Extremadura': ('39.1748426', '-6.1529891'), 'Alella': ('41.4952867', '2.2942758'), 'Murcia': ('37.9923795', '-1.1305431'), 'La Mancha': ('28.1030168', '-107.7577853'), 'Otazu': ('42.8317497', '-2.6275294'), 'Mentrida': ('40.2379032', '-4.1945535'), 'Ribeiro': ('42.31990645', '-8.152266856014716'), 'Terra Alta': ('41.027352300000004', '0.4105997375190444'), 'Arribes': ('43.0671007', '0.0917661'), 'Tarragona': ('41.1172364', '1.2546057')}\n"
     ]
    }
   ],
   "source": [
    "coordinates = {}\n",
    "for index, row in enumerate(df2['region'].unique()):\n",
    "    place_name = row\n",
    "    coordinates[row] = get_coordinates(place_name)\n",
    "print(coordinates)"
   ]
  },
  {
   "cell_type": "code",
   "execution_count": 78,
   "metadata": {},
   "outputs": [],
   "source": [
    "latitudes = {}\n",
    "longitudes = {}\n",
    "for k,v in coordinates.items():\n",
    "    if v != None:\n",
    "        latitudes[k] = v[0]\n",
    "        longitudes[k] = v[1]"
   ]
  },
  {
   "cell_type": "code",
   "execution_count": 81,
   "metadata": {},
   "outputs": [
    {
     "ename": "KeyError",
     "evalue": "'Dominio de Valdepusa'",
     "output_type": "error",
     "traceback": [
      "\u001b[0;31m---------------------------------------------------------------------------\u001b[0m",
      "\u001b[0;31mKeyError\u001b[0m                                  Traceback (most recent call last)",
      "\u001b[0;32m/var/folders/99/7zwt_pz57n96z_6ygkrh50080000gn/T/ipykernel_14666/3313318439.py\u001b[0m in \u001b[0;36m<module>\u001b[0;34m\u001b[0m\n\u001b[0;32m----> 1\u001b[0;31m \u001b[0mlatitudes\u001b[0m\u001b[0;34m[\u001b[0m\u001b[0;34m'Dominio de Valdepusa'\u001b[0m\u001b[0;34m]\u001b[0m\u001b[0;34m\u001b[0m\u001b[0;34m\u001b[0m\u001b[0m\n\u001b[0m",
      "\u001b[0;31mKeyError\u001b[0m: 'Dominio de Valdepusa'"
     ]
    }
   ],
   "source": [
    "latitudes['Dominio de Valdepusa']"
   ]
  },
  {
   "cell_type": "code",
   "execution_count": 56,
   "metadata": {},
   "outputs": [
    {
     "data": {
      "text/plain": [
       "(1775, 12)"
      ]
     },
     "execution_count": 56,
     "metadata": {},
     "output_type": "execute_result"
    }
   ],
   "source": [
    "df2.shape"
   ]
  },
  {
   "cell_type": "code",
   "execution_count": 90,
   "metadata": {},
   "outputs": [
    {
     "name": "stderr",
     "output_type": "stream",
     "text": [
      "/var/folders/99/7zwt_pz57n96z_6ygkrh50080000gn/T/ipykernel_14666/2113609270.py:1: SettingWithCopyWarning: \n",
      "A value is trying to be set on a copy of a slice from a DataFrame.\n",
      "Try using .loc[row_indexer,col_indexer] = value instead\n",
      "\n",
      "See the caveats in the documentation: https://pandas.pydata.org/pandas-docs/stable/user_guide/indexing.html#returning-a-view-versus-a-copy\n",
      "  df2['latitude'] = df2['region'].apply(lambda x: None if x not in latitudes else latitudes[str(x)])\n",
      "/var/folders/99/7zwt_pz57n96z_6ygkrh50080000gn/T/ipykernel_14666/2113609270.py:2: SettingWithCopyWarning: \n",
      "A value is trying to be set on a copy of a slice from a DataFrame.\n",
      "Try using .loc[row_indexer,col_indexer] = value instead\n",
      "\n",
      "See the caveats in the documentation: https://pandas.pydata.org/pandas-docs/stable/user_guide/indexing.html#returning-a-view-versus-a-copy\n",
      "  df2['longitude'] = df2['region'].apply(lambda x: None if x not in longitudes else longitudes[str(x)] )\n"
     ]
    }
   ],
   "source": [
    "df2['latitude'] = df2['region'].apply(lambda x: None if x not in latitudes else latitudes[str(x)])\n",
    "df2['longitude'] = df2['region'].apply(lambda x: None if x not in longitudes else longitudes[str(x)] )"
   ]
  },
  {
   "cell_type": "code",
   "execution_count": 91,
   "metadata": {},
   "outputs": [
    {
     "data": {
      "text/html": [
       "<div>\n",
       "<style scoped>\n",
       "    .dataframe tbody tr th:only-of-type {\n",
       "        vertical-align: middle;\n",
       "    }\n",
       "\n",
       "    .dataframe tbody tr th {\n",
       "        vertical-align: top;\n",
       "    }\n",
       "\n",
       "    .dataframe thead th {\n",
       "        text-align: right;\n",
       "    }\n",
       "</style>\n",
       "<table border=\"1\" class=\"dataframe\">\n",
       "  <thead>\n",
       "    <tr style=\"text-align: right;\">\n",
       "      <th></th>\n",
       "      <th>winery</th>\n",
       "      <th>wine</th>\n",
       "      <th>year</th>\n",
       "      <th>rating</th>\n",
       "      <th>num_reviews</th>\n",
       "      <th>region</th>\n",
       "      <th>price</th>\n",
       "      <th>type</th>\n",
       "      <th>body</th>\n",
       "      <th>acidity</th>\n",
       "      <th>latitude</th>\n",
       "      <th>longitude</th>\n",
       "    </tr>\n",
       "  </thead>\n",
       "  <tbody>\n",
       "    <tr>\n",
       "      <th>0</th>\n",
       "      <td>Teso La Monja</td>\n",
       "      <td>Tinto</td>\n",
       "      <td>2013</td>\n",
       "      <td>4.9</td>\n",
       "      <td>58</td>\n",
       "      <td>Toro</td>\n",
       "      <td>995.00</td>\n",
       "      <td>Toro Red</td>\n",
       "      <td>5.0</td>\n",
       "      <td>3.0</td>\n",
       "      <td>41.5216963</td>\n",
       "      <td>-5.3939824</td>\n",
       "    </tr>\n",
       "    <tr>\n",
       "      <th>1</th>\n",
       "      <td>Artadi</td>\n",
       "      <td>Vina El Pison</td>\n",
       "      <td>2018</td>\n",
       "      <td>4.9</td>\n",
       "      <td>31</td>\n",
       "      <td>Vino de Espana</td>\n",
       "      <td>313.50</td>\n",
       "      <td>Tempranillo</td>\n",
       "      <td>4.0</td>\n",
       "      <td>2.0</td>\n",
       "      <td>42.1771554</td>\n",
       "      <td>-8.4341104</td>\n",
       "    </tr>\n",
       "    <tr>\n",
       "      <th>2</th>\n",
       "      <td>Vega Sicilia</td>\n",
       "      <td>Unico</td>\n",
       "      <td>2009</td>\n",
       "      <td>4.8</td>\n",
       "      <td>1793</td>\n",
       "      <td>Ribera del Duero</td>\n",
       "      <td>324.95</td>\n",
       "      <td>Ribera Del Duero Red</td>\n",
       "      <td>5.0</td>\n",
       "      <td>3.0</td>\n",
       "      <td>41.66575665</td>\n",
       "      <td>-3.686329463971761</td>\n",
       "    </tr>\n",
       "    <tr>\n",
       "      <th>3</th>\n",
       "      <td>Vega Sicilia</td>\n",
       "      <td>Unico</td>\n",
       "      <td>1999</td>\n",
       "      <td>4.8</td>\n",
       "      <td>1705</td>\n",
       "      <td>Ribera del Duero</td>\n",
       "      <td>692.96</td>\n",
       "      <td>Ribera Del Duero Red</td>\n",
       "      <td>5.0</td>\n",
       "      <td>3.0</td>\n",
       "      <td>41.66575665</td>\n",
       "      <td>-3.686329463971761</td>\n",
       "    </tr>\n",
       "    <tr>\n",
       "      <th>4</th>\n",
       "      <td>Vega Sicilia</td>\n",
       "      <td>Unico</td>\n",
       "      <td>1996</td>\n",
       "      <td>4.8</td>\n",
       "      <td>1309</td>\n",
       "      <td>Ribera del Duero</td>\n",
       "      <td>778.06</td>\n",
       "      <td>Ribera Del Duero Red</td>\n",
       "      <td>5.0</td>\n",
       "      <td>3.0</td>\n",
       "      <td>41.66575665</td>\n",
       "      <td>-3.686329463971761</td>\n",
       "    </tr>\n",
       "    <tr>\n",
       "      <th>...</th>\n",
       "      <td>...</td>\n",
       "      <td>...</td>\n",
       "      <td>...</td>\n",
       "      <td>...</td>\n",
       "      <td>...</td>\n",
       "      <td>...</td>\n",
       "      <td>...</td>\n",
       "      <td>...</td>\n",
       "      <td>...</td>\n",
       "      <td>...</td>\n",
       "      <td>...</td>\n",
       "      <td>...</td>\n",
       "    </tr>\n",
       "    <tr>\n",
       "      <th>2045</th>\n",
       "      <td>Conreria d'Scala Dei</td>\n",
       "      <td>Les Brugueres</td>\n",
       "      <td>2018</td>\n",
       "      <td>4.2</td>\n",
       "      <td>390</td>\n",
       "      <td>Priorato</td>\n",
       "      <td>16.76</td>\n",
       "      <td>Priorat Red</td>\n",
       "      <td>4.0</td>\n",
       "      <td>3.0</td>\n",
       "      <td>44.8741121</td>\n",
       "      <td>10.1628956</td>\n",
       "    </tr>\n",
       "    <tr>\n",
       "      <th>2046</th>\n",
       "      <td>Mustiguillo</td>\n",
       "      <td>Finca Terrerazo</td>\n",
       "      <td>2017</td>\n",
       "      <td>4.2</td>\n",
       "      <td>390</td>\n",
       "      <td>El Terrerazo</td>\n",
       "      <td>24.45</td>\n",
       "      <td>Red</td>\n",
       "      <td>4.0</td>\n",
       "      <td>3.0</td>\n",
       "      <td>39.6222682</td>\n",
       "      <td>-1.2467301</td>\n",
       "    </tr>\n",
       "    <tr>\n",
       "      <th>2047</th>\n",
       "      <td>Matarromera</td>\n",
       "      <td>Gran Reserva</td>\n",
       "      <td>2011</td>\n",
       "      <td>4.2</td>\n",
       "      <td>389</td>\n",
       "      <td>Ribera del Duero</td>\n",
       "      <td>64.50</td>\n",
       "      <td>Ribera Del Duero Red</td>\n",
       "      <td>5.0</td>\n",
       "      <td>3.0</td>\n",
       "      <td>41.66575665</td>\n",
       "      <td>-3.686329463971761</td>\n",
       "    </tr>\n",
       "    <tr>\n",
       "      <th>2048</th>\n",
       "      <td>Sei Solo</td>\n",
       "      <td>Preludio</td>\n",
       "      <td>2016</td>\n",
       "      <td>4.2</td>\n",
       "      <td>388</td>\n",
       "      <td>Ribera del Duero</td>\n",
       "      <td>31.63</td>\n",
       "      <td>Ribera Del Duero Red</td>\n",
       "      <td>5.0</td>\n",
       "      <td>3.0</td>\n",
       "      <td>41.66575665</td>\n",
       "      <td>-3.686329463971761</td>\n",
       "    </tr>\n",
       "    <tr>\n",
       "      <th>2049</th>\n",
       "      <td>Vinedos de Paganos</td>\n",
       "      <td>El Puntido</td>\n",
       "      <td>2005</td>\n",
       "      <td>4.2</td>\n",
       "      <td>384</td>\n",
       "      <td>Rioja</td>\n",
       "      <td>73.00</td>\n",
       "      <td>Rioja Red</td>\n",
       "      <td>4.0</td>\n",
       "      <td>3.0</td>\n",
       "      <td>42.2814642</td>\n",
       "      <td>-2.482804975070473</td>\n",
       "    </tr>\n",
       "  </tbody>\n",
       "</table>\n",
       "<p>1775 rows × 12 columns</p>\n",
       "</div>"
      ],
      "text/plain": [
       "                    winery             wine  year  rating  num_reviews  \\\n",
       "0            Teso La Monja            Tinto  2013     4.9           58   \n",
       "1                   Artadi    Vina El Pison  2018     4.9           31   \n",
       "2             Vega Sicilia            Unico  2009     4.8         1793   \n",
       "3             Vega Sicilia            Unico  1999     4.8         1705   \n",
       "4             Vega Sicilia            Unico  1996     4.8         1309   \n",
       "...                    ...              ...   ...     ...          ...   \n",
       "2045  Conreria d'Scala Dei    Les Brugueres  2018     4.2          390   \n",
       "2046           Mustiguillo  Finca Terrerazo  2017     4.2          390   \n",
       "2047           Matarromera     Gran Reserva  2011     4.2          389   \n",
       "2048              Sei Solo         Preludio  2016     4.2          388   \n",
       "2049    Vinedos de Paganos       El Puntido  2005     4.2          384   \n",
       "\n",
       "                region   price                  type  body  acidity  \\\n",
       "0                 Toro  995.00              Toro Red   5.0      3.0   \n",
       "1       Vino de Espana  313.50           Tempranillo   4.0      2.0   \n",
       "2     Ribera del Duero  324.95  Ribera Del Duero Red   5.0      3.0   \n",
       "3     Ribera del Duero  692.96  Ribera Del Duero Red   5.0      3.0   \n",
       "4     Ribera del Duero  778.06  Ribera Del Duero Red   5.0      3.0   \n",
       "...                ...     ...                   ...   ...      ...   \n",
       "2045          Priorato   16.76           Priorat Red   4.0      3.0   \n",
       "2046      El Terrerazo   24.45                   Red   4.0      3.0   \n",
       "2047  Ribera del Duero   64.50  Ribera Del Duero Red   5.0      3.0   \n",
       "2048  Ribera del Duero   31.63  Ribera Del Duero Red   5.0      3.0   \n",
       "2049             Rioja   73.00             Rioja Red   4.0      3.0   \n",
       "\n",
       "         latitude           longitude  \n",
       "0      41.5216963          -5.3939824  \n",
       "1      42.1771554          -8.4341104  \n",
       "2     41.66575665  -3.686329463971761  \n",
       "3     41.66575665  -3.686329463971761  \n",
       "4     41.66575665  -3.686329463971761  \n",
       "...           ...                 ...  \n",
       "2045   44.8741121          10.1628956  \n",
       "2046   39.6222682          -1.2467301  \n",
       "2047  41.66575665  -3.686329463971761  \n",
       "2048  41.66575665  -3.686329463971761  \n",
       "2049   42.2814642  -2.482804975070473  \n",
       "\n",
       "[1775 rows x 12 columns]"
      ]
     },
     "execution_count": 91,
     "metadata": {},
     "output_type": "execute_result"
    }
   ],
   "source": [
    "df2"
   ]
  },
  {
   "cell_type": "code",
   "execution_count": 134,
   "metadata": {},
   "outputs": [],
   "source": [
    "\n",
    "    \n",
    "def remove_outliers(df):\n",
    "    df_num = df.select_dtypes(include=[np.number])\n",
    "    Q1 = df_num.quantile(0.25)\n",
    "    Q3 = df_num.quantile(0.75)\n",
    "    IQR = Q3 - Q1\n",
    "    trueList = ~((df_num < (Q1 - 1.5 * IQR)) |(df_num > (Q3 + 1.5 * IQR)))\n",
    "    return trueList"
   ]
  },
  {
   "cell_type": "code",
   "execution_count": 135,
   "metadata": {},
   "outputs": [],
   "source": [
    "df_test = df[remove_outliers]"
   ]
  },
  {
   "cell_type": "code",
   "execution_count": 136,
   "metadata": {},
   "outputs": [
    {
     "data": {
      "text/html": [
       "<div>\n",
       "<style scoped>\n",
       "    .dataframe tbody tr th:only-of-type {\n",
       "        vertical-align: middle;\n",
       "    }\n",
       "\n",
       "    .dataframe tbody tr th {\n",
       "        vertical-align: top;\n",
       "    }\n",
       "\n",
       "    .dataframe thead th {\n",
       "        text-align: right;\n",
       "    }\n",
       "</style>\n",
       "<table border=\"1\" class=\"dataframe\">\n",
       "  <thead>\n",
       "    <tr style=\"text-align: right;\">\n",
       "      <th></th>\n",
       "      <th>winery</th>\n",
       "      <th>wine</th>\n",
       "      <th>year</th>\n",
       "      <th>rating</th>\n",
       "      <th>num_reviews</th>\n",
       "      <th>region</th>\n",
       "      <th>price</th>\n",
       "      <th>type</th>\n",
       "      <th>body</th>\n",
       "      <th>acidity</th>\n",
       "    </tr>\n",
       "  </thead>\n",
       "  <tbody>\n",
       "    <tr>\n",
       "      <th>0</th>\n",
       "      <td>NaN</td>\n",
       "      <td>NaN</td>\n",
       "      <td>2013.0</td>\n",
       "      <td>NaN</td>\n",
       "      <td>NaN</td>\n",
       "      <td>NaN</td>\n",
       "      <td>NaN</td>\n",
       "      <td>NaN</td>\n",
       "      <td>5.0</td>\n",
       "      <td>3.0</td>\n",
       "    </tr>\n",
       "    <tr>\n",
       "      <th>1</th>\n",
       "      <td>NaN</td>\n",
       "      <td>NaN</td>\n",
       "      <td>2018.0</td>\n",
       "      <td>NaN</td>\n",
       "      <td>NaN</td>\n",
       "      <td>NaN</td>\n",
       "      <td>NaN</td>\n",
       "      <td>NaN</td>\n",
       "      <td>4.0</td>\n",
       "      <td>NaN</td>\n",
       "    </tr>\n",
       "    <tr>\n",
       "      <th>2</th>\n",
       "      <td>NaN</td>\n",
       "      <td>NaN</td>\n",
       "      <td>2009.0</td>\n",
       "      <td>NaN</td>\n",
       "      <td>NaN</td>\n",
       "      <td>NaN</td>\n",
       "      <td>NaN</td>\n",
       "      <td>NaN</td>\n",
       "      <td>5.0</td>\n",
       "      <td>3.0</td>\n",
       "    </tr>\n",
       "    <tr>\n",
       "      <th>3</th>\n",
       "      <td>NaN</td>\n",
       "      <td>NaN</td>\n",
       "      <td>NaN</td>\n",
       "      <td>NaN</td>\n",
       "      <td>NaN</td>\n",
       "      <td>NaN</td>\n",
       "      <td>NaN</td>\n",
       "      <td>NaN</td>\n",
       "      <td>5.0</td>\n",
       "      <td>3.0</td>\n",
       "    </tr>\n",
       "    <tr>\n",
       "      <th>4</th>\n",
       "      <td>NaN</td>\n",
       "      <td>NaN</td>\n",
       "      <td>NaN</td>\n",
       "      <td>NaN</td>\n",
       "      <td>NaN</td>\n",
       "      <td>NaN</td>\n",
       "      <td>NaN</td>\n",
       "      <td>NaN</td>\n",
       "      <td>5.0</td>\n",
       "      <td>3.0</td>\n",
       "    </tr>\n",
       "    <tr>\n",
       "      <th>...</th>\n",
       "      <td>...</td>\n",
       "      <td>...</td>\n",
       "      <td>...</td>\n",
       "      <td>...</td>\n",
       "      <td>...</td>\n",
       "      <td>...</td>\n",
       "      <td>...</td>\n",
       "      <td>...</td>\n",
       "      <td>...</td>\n",
       "      <td>...</td>\n",
       "    </tr>\n",
       "    <tr>\n",
       "      <th>7495</th>\n",
       "      <td>NaN</td>\n",
       "      <td>NaN</td>\n",
       "      <td>2016.0</td>\n",
       "      <td>4.2</td>\n",
       "      <td>392.0</td>\n",
       "      <td>NaN</td>\n",
       "      <td>19.98</td>\n",
       "      <td>NaN</td>\n",
       "      <td>4.0</td>\n",
       "      <td>3.0</td>\n",
       "    </tr>\n",
       "    <tr>\n",
       "      <th>7496</th>\n",
       "      <td>NaN</td>\n",
       "      <td>NaN</td>\n",
       "      <td>2018.0</td>\n",
       "      <td>4.2</td>\n",
       "      <td>390.0</td>\n",
       "      <td>NaN</td>\n",
       "      <td>16.76</td>\n",
       "      <td>NaN</td>\n",
       "      <td>4.0</td>\n",
       "      <td>3.0</td>\n",
       "    </tr>\n",
       "    <tr>\n",
       "      <th>7497</th>\n",
       "      <td>NaN</td>\n",
       "      <td>NaN</td>\n",
       "      <td>2017.0</td>\n",
       "      <td>4.2</td>\n",
       "      <td>390.0</td>\n",
       "      <td>NaN</td>\n",
       "      <td>24.45</td>\n",
       "      <td>NaN</td>\n",
       "      <td>4.0</td>\n",
       "      <td>3.0</td>\n",
       "    </tr>\n",
       "    <tr>\n",
       "      <th>7498</th>\n",
       "      <td>NaN</td>\n",
       "      <td>NaN</td>\n",
       "      <td>2011.0</td>\n",
       "      <td>4.2</td>\n",
       "      <td>389.0</td>\n",
       "      <td>NaN</td>\n",
       "      <td>64.50</td>\n",
       "      <td>NaN</td>\n",
       "      <td>5.0</td>\n",
       "      <td>3.0</td>\n",
       "    </tr>\n",
       "    <tr>\n",
       "      <th>7499</th>\n",
       "      <td>NaN</td>\n",
       "      <td>NaN</td>\n",
       "      <td>2016.0</td>\n",
       "      <td>4.2</td>\n",
       "      <td>388.0</td>\n",
       "      <td>NaN</td>\n",
       "      <td>31.63</td>\n",
       "      <td>NaN</td>\n",
       "      <td>5.0</td>\n",
       "      <td>3.0</td>\n",
       "    </tr>\n",
       "  </tbody>\n",
       "</table>\n",
       "<p>6070 rows × 10 columns</p>\n",
       "</div>"
      ],
      "text/plain": [
       "     winery wine    year  rating  num_reviews region  price type  body  \\\n",
       "0       NaN  NaN  2013.0     NaN          NaN    NaN    NaN  NaN   5.0   \n",
       "1       NaN  NaN  2018.0     NaN          NaN    NaN    NaN  NaN   4.0   \n",
       "2       NaN  NaN  2009.0     NaN          NaN    NaN    NaN  NaN   5.0   \n",
       "3       NaN  NaN     NaN     NaN          NaN    NaN    NaN  NaN   5.0   \n",
       "4       NaN  NaN     NaN     NaN          NaN    NaN    NaN  NaN   5.0   \n",
       "...     ...  ...     ...     ...          ...    ...    ...  ...   ...   \n",
       "7495    NaN  NaN  2016.0     4.2        392.0    NaN  19.98  NaN   4.0   \n",
       "7496    NaN  NaN  2018.0     4.2        390.0    NaN  16.76  NaN   4.0   \n",
       "7497    NaN  NaN  2017.0     4.2        390.0    NaN  24.45  NaN   4.0   \n",
       "7498    NaN  NaN  2011.0     4.2        389.0    NaN  64.50  NaN   5.0   \n",
       "7499    NaN  NaN  2016.0     4.2        388.0    NaN  31.63  NaN   5.0   \n",
       "\n",
       "      acidity  \n",
       "0         3.0  \n",
       "1         NaN  \n",
       "2         3.0  \n",
       "3         3.0  \n",
       "4         3.0  \n",
       "...       ...  \n",
       "7495      3.0  \n",
       "7496      3.0  \n",
       "7497      3.0  \n",
       "7498      3.0  \n",
       "7499      3.0  \n",
       "\n",
       "[6070 rows x 10 columns]"
      ]
     },
     "execution_count": 136,
     "metadata": {},
     "output_type": "execute_result"
    }
   ],
   "source": [
    "df[remove_outliers(df)]"
   ]
  },
  {
   "cell_type": "code",
   "execution_count": 128,
   "metadata": {},
   "outputs": [
    {
     "data": {
      "text/plain": [
       "winery            0\n",
       "wine              0\n",
       "year            196\n",
       "rating          596\n",
       "num_reviews    1622\n",
       "region            0\n",
       "price           436\n",
       "type              0\n",
       "body             34\n",
       "acidity         294\n",
       "dtype: int64"
      ]
     },
     "execution_count": 128,
     "metadata": {},
     "output_type": "execute_result"
    }
   ],
   "source": [
    "df_test.isna().sum()"
   ]
  },
  {
   "cell_type": "code",
   "execution_count": 107,
   "metadata": {},
   "outputs": [
    {
     "data": {
      "text/html": [
       "<div>\n",
       "<style scoped>\n",
       "    .dataframe tbody tr th:only-of-type {\n",
       "        vertical-align: middle;\n",
       "    }\n",
       "\n",
       "    .dataframe tbody tr th {\n",
       "        vertical-align: top;\n",
       "    }\n",
       "\n",
       "    .dataframe thead th {\n",
       "        text-align: right;\n",
       "    }\n",
       "</style>\n",
       "<table border=\"1\" class=\"dataframe\">\n",
       "  <thead>\n",
       "    <tr style=\"text-align: right;\">\n",
       "      <th></th>\n",
       "      <th>winery</th>\n",
       "      <th>wine</th>\n",
       "      <th>year</th>\n",
       "      <th>rating</th>\n",
       "      <th>num_reviews</th>\n",
       "      <th>region</th>\n",
       "      <th>price</th>\n",
       "      <th>type</th>\n",
       "      <th>body</th>\n",
       "      <th>acidity</th>\n",
       "    </tr>\n",
       "  </thead>\n",
       "  <tbody>\n",
       "    <tr>\n",
       "      <th>0</th>\n",
       "      <td>Teso La Monja</td>\n",
       "      <td>Tinto</td>\n",
       "      <td>2013</td>\n",
       "      <td>4.9</td>\n",
       "      <td>58</td>\n",
       "      <td>Toro</td>\n",
       "      <td>995.00</td>\n",
       "      <td>Toro Red</td>\n",
       "      <td>5.0</td>\n",
       "      <td>3.0</td>\n",
       "    </tr>\n",
       "    <tr>\n",
       "      <th>1</th>\n",
       "      <td>Artadi</td>\n",
       "      <td>Vina El Pison</td>\n",
       "      <td>2018</td>\n",
       "      <td>4.9</td>\n",
       "      <td>31</td>\n",
       "      <td>Vino de Espana</td>\n",
       "      <td>313.50</td>\n",
       "      <td>Tempranillo</td>\n",
       "      <td>4.0</td>\n",
       "      <td>2.0</td>\n",
       "    </tr>\n",
       "    <tr>\n",
       "      <th>2</th>\n",
       "      <td>Vega Sicilia</td>\n",
       "      <td>Unico</td>\n",
       "      <td>2009</td>\n",
       "      <td>4.8</td>\n",
       "      <td>1793</td>\n",
       "      <td>Ribera del Duero</td>\n",
       "      <td>324.95</td>\n",
       "      <td>Ribera Del Duero Red</td>\n",
       "      <td>5.0</td>\n",
       "      <td>3.0</td>\n",
       "    </tr>\n",
       "    <tr>\n",
       "      <th>3</th>\n",
       "      <td>Vega Sicilia</td>\n",
       "      <td>Unico</td>\n",
       "      <td>1999</td>\n",
       "      <td>4.8</td>\n",
       "      <td>1705</td>\n",
       "      <td>Ribera del Duero</td>\n",
       "      <td>692.96</td>\n",
       "      <td>Ribera Del Duero Red</td>\n",
       "      <td>5.0</td>\n",
       "      <td>3.0</td>\n",
       "    </tr>\n",
       "    <tr>\n",
       "      <th>4</th>\n",
       "      <td>Vega Sicilia</td>\n",
       "      <td>Unico</td>\n",
       "      <td>1996</td>\n",
       "      <td>4.8</td>\n",
       "      <td>1309</td>\n",
       "      <td>Ribera del Duero</td>\n",
       "      <td>778.06</td>\n",
       "      <td>Ribera Del Duero Red</td>\n",
       "      <td>5.0</td>\n",
       "      <td>3.0</td>\n",
       "    </tr>\n",
       "  </tbody>\n",
       "</table>\n",
       "</div>"
      ],
      "text/plain": [
       "          winery           wine  year  rating  num_reviews            region  \\\n",
       "0  Teso La Monja          Tinto  2013     4.9           58              Toro   \n",
       "1         Artadi  Vina El Pison  2018     4.9           31    Vino de Espana   \n",
       "2   Vega Sicilia          Unico  2009     4.8         1793  Ribera del Duero   \n",
       "3   Vega Sicilia          Unico  1999     4.8         1705  Ribera del Duero   \n",
       "4   Vega Sicilia          Unico  1996     4.8         1309  Ribera del Duero   \n",
       "\n",
       "    price                  type  body  acidity  \n",
       "0  995.00              Toro Red   5.0      3.0  \n",
       "1  313.50           Tempranillo   4.0      2.0  \n",
       "2  324.95  Ribera Del Duero Red   5.0      3.0  \n",
       "3  692.96  Ribera Del Duero Red   5.0      3.0  \n",
       "4  778.06  Ribera Del Duero Red   5.0      3.0  "
      ]
     },
     "execution_count": 107,
     "metadata": {},
     "output_type": "execute_result"
    }
   ],
   "source": [
    "df.head()"
   ]
  },
  {
   "cell_type": "markdown",
   "metadata": {},
   "source": [
    "### Idées d'amélioration de la prédiction : \n",
    "\n",
    "- dégager des outliers (notamment celui visible >3000 en prix)\n"
   ]
  },
  {
   "cell_type": "markdown",
   "metadata": {},
   "source": [
    "# 3 (partie test à négliger)"
   ]
  },
  {
   "cell_type": "markdown",
   "metadata": {},
   "source": [
    "## 3.1"
   ]
  },
  {
   "cell_type": "markdown",
   "metadata": {},
   "source": [
    "J'ai tenté de créer une échelle de prix 'exponentielle' pour faire une discrétisation + fine sur les petits prix (plus nombreux), et grossière sur les grands prix (peu nombreux) : mais c'est pas évident pour tirer des conclusions sur ce qu'on affiche ensuite. "
   ]
  },
  {
   "cell_type": "code",
   "execution_count": null,
   "metadata": {},
   "outputs": [],
   "source": [
    "# Je peux m'amuser à créer un petit dataframe qui réechantillonne les prix et moyenne les autres features\n",
    "def price_resample(price, echelle):\n",
    "    if int(price) in echelle:\n",
    "        return echelle[np.where(echelle==int(price))[0][0]]\n",
    "    else:\n",
    "        return echelle[np.where(echelle<int(price))[0][-1]]"
   ]
  },
  {
   "cell_type": "code",
   "execution_count": 22,
   "metadata": {},
   "outputs": [
    {
     "data": {
      "text/plain": [
       "array([  3,   4,   5,   6,   7,   9,  11,  13,  15,  18,  21,  25,  30,\n",
       "        36,  42,  50,  60,  71,  84, 100])"
      ]
     },
     "execution_count": 22,
     "metadata": {},
     "output_type": "execute_result"
    }
   ],
   "source": [
    "d = np.logspace(0.6, 2, 20, endpoint=True, dtype=int)\n",
    "d"
   ]
  },
  {
   "cell_type": "code",
   "execution_count": null,
   "metadata": {},
   "outputs": [],
   "source": [
    "ech1 = np.logspace(0.6, 2, 20, endpoint=True, dtype=int)\n",
    "ech1 = np.insert(d,0,0)\n",
    "\n",
    "ech2 = np.append(ech1,200) #on crée un nouvel interval qui inclue jusqu'à 'price = 500'\n",
    "ech2 = np.append(ech2,500)\n",
    "\n",
    "ech3 = np.arange(0,505,5)\n",
    "\n",
    "df['price_100first'] = df['price'].apply(lambda x: price_resample(x, ech1))\n",
    "# la colonne 'price_range' range grossièrement les prix sur 20 tranches, échantillonage exponentiel jusqu'à la valeur 100, \n",
    "# les prix au-dessus de 100 sont aussi de 100\n",
    "\n",
    "df['price_500first'] = df['price'].apply(lambda x: price_resample(x, ech2))\n",
    "\n",
    "df['price_500smooth'] = df['price'].apply(lambda x: price_resample(x,ech3))\n",
    "\n",
    "#df_small100 = df.groupby(by=['price_100first']).mean()\n",
    "#df_small500 = df.groupby(by=['price_500first']).mean()\n",
    "#df_small500smooth = df.groupby(by=['price_500smooth']).mean()"
   ]
  },
  {
   "cell_type": "markdown",
   "metadata": {},
   "source": [
    "## 3.2 - Je réechantillonne les prix pour faire des paquets de 5. Les prix > à 500 sont mis à 500 (moins de 2% des vins concernés) -> je groupby sur ces prix réechantillonés et affiche les ratings moyens/médians. ça donne les graphs suivant"
   ]
  },
  {
   "cell_type": "code",
   "execution_count": null,
   "metadata": {},
   "outputs": [],
   "source": [
    "df_small100 = df.groupby(by=['price_100first'])\n",
    "df_small500 = df.groupby(by=['price_500first'])\n",
    "df_small500smooth = df.groupby(by=['price_500smooth'])"
   ]
  },
  {
   "cell_type": "code",
   "execution_count": null,
   "metadata": {},
   "outputs": [],
   "source": [
    "#fig, axes = plt.subplots(3,2,figsize=(20,15))\n",
    "fig, axes = plt.subplots(1,2,figsize=(20,5))\n",
    "\n",
    "#axes[0,0].scatter(df_small100.mean()['rating'],df_small100.mean().index)\n",
    "#axes[0,1].scatter(df_small100.median()['rating'],df_small100.median().index)\n",
    "#axes[1,0].scatter(df_small500.mean()['rating'],df_small500.mean().index)\n",
    "#axes[1,1].scatter(df_small500.median()['rating'],df_small500.median().index)\n",
    "\n",
    "axes[0].scatter(df_small500smooth.mean()['rating'],df_small500smooth.mean().index,label=\"prix < 500, rating moyen\")\n",
    "#axes[0].legend()\n",
    "ax2 = axes[0].twinx() #deuxième axe y indépendant (pour l'histogramme)\n",
    "ax2.hist(df_small500smooth.mean()['rating'],fc=(0.45, 0.2, 0, 0.2),bins=len(df_small500smooth),label=\"quantité de vins recensés par tranche de 5€, rating moyen\")\n",
    "axes[0].set_xlabel(\"ratings moyen observés par tranches de 5€\")\n",
    "ax2.legend()\n",
    "\n",
    "axes[1].scatter(df_small500smooth.median()['rating'],df_small500smooth.median().index,label=\"prix < 500, rating médian\")\n",
    "#axes[1].legend()\n",
    "ax3 = axes[1].twinx()\n",
    "ax3.hist(df_small500smooth.median()['rating'],fc=(0.45, 0.2, 0, 0.2),bins=len(df_small500smooth),label=\"prix < 500 par blocs de 5 par tranche de 5€, rating médian\")\n",
    "ax3.legend()\n",
    "axes[1].set_xlabel(\"ratings médian observés par tranches de 5€\")\n",
    "plt.show()"
   ]
  },
  {
   "cell_type": "code",
   "execution_count": null,
   "metadata": {},
   "outputs": [],
   "source": []
  }
 ],
 "metadata": {
  "kernelspec": {
   "display_name": "Python 3.8.12 64-bit ('shims')",
   "language": "python",
   "name": "python3"
  },
  "language_info": {
   "codemirror_mode": {
    "name": "ipython",
    "version": 3
   },
   "file_extension": ".py",
   "mimetype": "text/x-python",
   "name": "python",
   "nbconvert_exporter": "python",
   "pygments_lexer": "ipython3",
   "version": "3.8.12"
  },
  "orig_nbformat": 4,
  "vscode": {
   "interpreter": {
    "hash": "bdcb799086dd28e2256eb68e39fe3519820c8ce6c5b5a83d0f4a8e5f8f5ce9db"
   }
  }
 },
 "nbformat": 4,
 "nbformat_minor": 2
}
